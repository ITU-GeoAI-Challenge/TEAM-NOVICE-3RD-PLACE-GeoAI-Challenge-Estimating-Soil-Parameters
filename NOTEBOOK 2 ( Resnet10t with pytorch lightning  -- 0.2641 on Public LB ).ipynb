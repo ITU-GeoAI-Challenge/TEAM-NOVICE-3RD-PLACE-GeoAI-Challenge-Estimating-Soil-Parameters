{
  "cells": [
    {
      "cell_type": "code",
      "source": [
        "%%capture\n",
        "!gdown --id 15AKhteDXWrdYl4VZBO66uW9vV-95GL4s\n",
        "!unzip -qq /content/soil_data.zip"
      ],
      "metadata": {
        "id": "KJQqkj8O4W3n"
      },
      "id": "KJQqkj8O4W3n",
      "execution_count": null,
      "outputs": []
    },
    {
      "cell_type": "code",
      "execution_count": null,
      "id": "0c4da7fe",
      "metadata": {
        "id": "0c4da7fe"
      },
      "outputs": [],
      "source": [
        "%%capture\n",
        "!pip install --upgrade timm\n",
        "!pip install pandarallel\n",
        "!pip install pytorch_lightning\n",
        "!pip install --upgrade segmentation_models_pytorch"
      ]
    },
    {
      "cell_type": "code",
      "execution_count": null,
      "id": "034e8e04",
      "metadata": {
        "id": "034e8e04"
      },
      "outputs": [],
      "source": [
        "%%capture\n",
        "import pandas as pd\n",
        "import numpy as np\n",
        "import torch\n",
        "from torch import nn, optim\n",
        "from torch.utils.data import Dataset, DataLoader\n",
        "import pytorch_lightning as pl\n",
        "from torchmetrics import Accuracy, MeanSquaredError\n",
        "import datetime\n",
        "from sklearn.model_selection import StratifiedKFold, KFold\n",
        "\n",
        "import glob\n",
        "from tqdm import tqdm\n",
        "import cv2\n",
        "from PIL import Image\n",
        "import os\n",
        "import timm\n",
        "from matplotlib import pyplot as plt\n",
        "import argparse\n",
        "import albumentations as A\n",
        "from albumentations.pytorch import ToTensorV2\n",
        "from pandarallel import pandarallel\n",
        "\n",
        "pandarallel.initialize(use_memory_fs=False, nb_workers=os.cpu_count(), progress_bar=True)"
      ]
    },
    {
      "cell_type": "code",
      "execution_count": 3,
      "id": "6bbe8fdd",
      "metadata": {
        "colab": {
          "base_uri": "https://localhost:8080/"
        },
        "id": "6bbe8fdd",
        "outputId": "163a2a92-276f-42a2-c741-ccf5b461af6b"
      },
      "outputs": [
        {
          "output_type": "execute_result",
          "data": {
            "text/plain": [
              "['eca_resnet33ts.ra2_in1k',\n",
              " 'ecaresnet26t.ra2_in1k',\n",
              " 'ecaresnet50t.a1_in1k',\n",
              " 'ecaresnet50t.a2_in1k',\n",
              " 'ecaresnet50t.a3_in1k',\n",
              " 'ecaresnet50t.ra2_in1k',\n",
              " 'ecaresnetlight.miil_in1k',\n",
              " 'gcresnet33ts.ra2_in1k',\n",
              " 'gcresnet50t.ra2_in1k',\n",
              " 'inception_resnet_v2.tf_ens_adv_in1k',\n",
              " 'inception_resnet_v2.tf_in1k',\n",
              " 'lambda_resnet26rpt_256.c1_in1k',\n",
              " 'lambda_resnet26t.c1_in1k',\n",
              " 'lambda_resnet50ts.a1h_in1k',\n",
              " 'resnet10t.c3_in1k',\n",
              " 'resnet14t.c3_in1k',\n",
              " 'resnet18.fb_ssl_yfcc100m_ft_in1k',\n",
              " 'resnet18.fb_swsl_ig1b_ft_in1k',\n",
              " 'resnet18.tv_in1k',\n",
              " 'resnet26.bt_in1k',\n",
              " 'resnet26d.bt_in1k',\n",
              " 'resnet26t.ra2_in1k',\n",
              " 'resnet32ts.ra2_in1k',\n",
              " 'resnet33ts.ra2_in1k',\n",
              " 'resnet34.bt_in1k',\n",
              " 'resnet34.tv_in1k',\n",
              " 'resnet50.bt_in1k',\n",
              " 'resnet50.fb_ssl_yfcc100m_ft_in1k',\n",
              " 'resnet50.fb_swsl_ig1b_ft_in1k',\n",
              " 'resnet50.tv2_in1k',\n",
              " 'resnet50.tv_in1k',\n",
              " 'resnet101.tv2_in1k',\n",
              " 'resnet101.tv_in1k',\n",
              " 'resnet152.tv2_in1k',\n",
              " 'resnet152.tv_in1k',\n",
              " 'resnetaa50d.sw_in12k_ft_in1k',\n",
              " 'resnetaa101d.sw_in12k_ft_in1k',\n",
              " 'resnetblur50.bt_in1k',\n",
              " 'resnetrs50.tf_in1k',\n",
              " 'resnetrs101.tf_in1k',\n",
              " 'resnetrs152.tf_in1k',\n",
              " 'resnetrs200.tf_in1k',\n",
              " 'resnetrs270.tf_in1k',\n",
              " 'resnetrs350.tf_in1k',\n",
              " 'resnetrs420.tf_in1k',\n",
              " 'resnetv2_50x1_bit.goog_distilled_in1k',\n",
              " 'resnetv2_50x1_bit.goog_in21k',\n",
              " 'resnetv2_50x1_bit.goog_in21k_ft_in1k',\n",
              " 'resnetv2_50x3_bit.goog_in21k',\n",
              " 'resnetv2_50x3_bit.goog_in21k_ft_in1k',\n",
              " 'resnetv2_101x1_bit.goog_in21k',\n",
              " 'resnetv2_101x1_bit.goog_in21k_ft_in1k',\n",
              " 'resnetv2_101x3_bit.goog_in21k',\n",
              " 'resnetv2_101x3_bit.goog_in21k_ft_in1k',\n",
              " 'resnetv2_152x2_bit.goog_in21k',\n",
              " 'resnetv2_152x2_bit.goog_in21k_ft_in1k',\n",
              " 'resnetv2_152x2_bit.goog_teacher_in21k_ft_in1k',\n",
              " 'resnetv2_152x2_bit.goog_teacher_in21k_ft_in1k_384',\n",
              " 'resnetv2_152x4_bit.goog_in21k',\n",
              " 'resnetv2_152x4_bit.goog_in21k_ft_in1k',\n",
              " 'seresnet33ts.ra2_in1k',\n",
              " 'tresnet_m.miil_in21k_ft_in1k',\n",
              " 'tresnet_v2_l.miil_in21k_ft_in1k',\n",
              " 'wide_resnet50_2.tv2_in1k',\n",
              " 'wide_resnet50_2.tv_in1k',\n",
              " 'wide_resnet101_2.tv2_in1k',\n",
              " 'wide_resnet101_2.tv_in1k']"
            ]
          },
          "metadata": {},
          "execution_count": 3
        }
      ],
      "source": [
        "timm.list_models('*resnet*t*', pretrained=True)"
      ]
    },
    {
      "cell_type": "code",
      "execution_count": 5,
      "id": "4ce06039",
      "metadata": {
        "id": "4ce06039"
      },
      "outputs": [],
      "source": [
        "args = dict(\n",
        "    seed=42,\n",
        "    model='resnet10t',\n",
        "    lr=1e-3,\n",
        "    weight_decay=0.0,\n",
        "    log_dir='logs',\n",
        "    num_workers=min(8, os.cpu_count()),\n",
        "    epochs=100,\n",
        "#   dropout=0.2,\n",
        "    batch_size=32,\n",
        "    repeats=1,\n",
        "    accumulate_grad_batches=1,\n",
        "    image_size=77,\n",
        "    base_size=128,\n",
        "    gpus='0',\n",
        "    patience=10,\n",
        "    precision='32',\n",
        "    scheduler='onecycle',\n",
        ")\n",
        "\n",
        "args = argparse.Namespace(**args)"
      ]
    },
    {
      "cell_type": "markdown",
      "id": "349ada49",
      "metadata": {
        "id": "349ada49"
      },
      "source": [
        "## Load the data"
      ]
    },
    {
      "cell_type": "code",
      "execution_count": 6,
      "id": "f2d92288",
      "metadata": {
        "colab": {
          "base_uri": "https://localhost:8080/",
          "height": 423
        },
        "id": "f2d92288",
        "outputId": "684df2ea-f396-4ecb-f3fe-d987dfddf1e0"
      },
      "outputs": [
        {
          "output_type": "execute_result",
          "data": {
            "text/plain": [
              "      sample_index     P      K     Mg   pH\n",
              "0                0  45.1  188.0  179.0  7.2\n",
              "1                1  44.8  205.0  188.0  7.0\n",
              "2                2  44.4  207.0  145.0  6.8\n",
              "3                3  46.5  204.0  143.0  6.8\n",
              "4                4  52.0  212.0  167.0  6.7\n",
              "...            ...   ...    ...    ...  ...\n",
              "1727          1727  40.8  133.0  132.0  6.2\n",
              "1728          1728  42.7  192.0  126.0  6.5\n",
              "1729          1729  39.4  180.0  122.0  6.5\n",
              "1730          1730  37.3  162.0  127.0  6.5\n",
              "1731          1731  29.5  146.0  133.0  6.3\n",
              "\n",
              "[1732 rows x 5 columns]"
            ],
            "text/html": [
              "\n",
              "  <div id=\"df-4c146550-d88d-4144-9cb2-7ab987fd8e2a\" class=\"colab-df-container\">\n",
              "    <div>\n",
              "<style scoped>\n",
              "    .dataframe tbody tr th:only-of-type {\n",
              "        vertical-align: middle;\n",
              "    }\n",
              "\n",
              "    .dataframe tbody tr th {\n",
              "        vertical-align: top;\n",
              "    }\n",
              "\n",
              "    .dataframe thead th {\n",
              "        text-align: right;\n",
              "    }\n",
              "</style>\n",
              "<table border=\"1\" class=\"dataframe\">\n",
              "  <thead>\n",
              "    <tr style=\"text-align: right;\">\n",
              "      <th></th>\n",
              "      <th>sample_index</th>\n",
              "      <th>P</th>\n",
              "      <th>K</th>\n",
              "      <th>Mg</th>\n",
              "      <th>pH</th>\n",
              "    </tr>\n",
              "  </thead>\n",
              "  <tbody>\n",
              "    <tr>\n",
              "      <th>0</th>\n",
              "      <td>0</td>\n",
              "      <td>45.1</td>\n",
              "      <td>188.0</td>\n",
              "      <td>179.0</td>\n",
              "      <td>7.2</td>\n",
              "    </tr>\n",
              "    <tr>\n",
              "      <th>1</th>\n",
              "      <td>1</td>\n",
              "      <td>44.8</td>\n",
              "      <td>205.0</td>\n",
              "      <td>188.0</td>\n",
              "      <td>7.0</td>\n",
              "    </tr>\n",
              "    <tr>\n",
              "      <th>2</th>\n",
              "      <td>2</td>\n",
              "      <td>44.4</td>\n",
              "      <td>207.0</td>\n",
              "      <td>145.0</td>\n",
              "      <td>6.8</td>\n",
              "    </tr>\n",
              "    <tr>\n",
              "      <th>3</th>\n",
              "      <td>3</td>\n",
              "      <td>46.5</td>\n",
              "      <td>204.0</td>\n",
              "      <td>143.0</td>\n",
              "      <td>6.8</td>\n",
              "    </tr>\n",
              "    <tr>\n",
              "      <th>4</th>\n",
              "      <td>4</td>\n",
              "      <td>52.0</td>\n",
              "      <td>212.0</td>\n",
              "      <td>167.0</td>\n",
              "      <td>6.7</td>\n",
              "    </tr>\n",
              "    <tr>\n",
              "      <th>...</th>\n",
              "      <td>...</td>\n",
              "      <td>...</td>\n",
              "      <td>...</td>\n",
              "      <td>...</td>\n",
              "      <td>...</td>\n",
              "    </tr>\n",
              "    <tr>\n",
              "      <th>1727</th>\n",
              "      <td>1727</td>\n",
              "      <td>40.8</td>\n",
              "      <td>133.0</td>\n",
              "      <td>132.0</td>\n",
              "      <td>6.2</td>\n",
              "    </tr>\n",
              "    <tr>\n",
              "      <th>1728</th>\n",
              "      <td>1728</td>\n",
              "      <td>42.7</td>\n",
              "      <td>192.0</td>\n",
              "      <td>126.0</td>\n",
              "      <td>6.5</td>\n",
              "    </tr>\n",
              "    <tr>\n",
              "      <th>1729</th>\n",
              "      <td>1729</td>\n",
              "      <td>39.4</td>\n",
              "      <td>180.0</td>\n",
              "      <td>122.0</td>\n",
              "      <td>6.5</td>\n",
              "    </tr>\n",
              "    <tr>\n",
              "      <th>1730</th>\n",
              "      <td>1730</td>\n",
              "      <td>37.3</td>\n",
              "      <td>162.0</td>\n",
              "      <td>127.0</td>\n",
              "      <td>6.5</td>\n",
              "    </tr>\n",
              "    <tr>\n",
              "      <th>1731</th>\n",
              "      <td>1731</td>\n",
              "      <td>29.5</td>\n",
              "      <td>146.0</td>\n",
              "      <td>133.0</td>\n",
              "      <td>6.3</td>\n",
              "    </tr>\n",
              "  </tbody>\n",
              "</table>\n",
              "<p>1732 rows × 5 columns</p>\n",
              "</div>\n",
              "    <div class=\"colab-df-buttons\">\n",
              "\n",
              "  <div class=\"colab-df-container\">\n",
              "    <button class=\"colab-df-convert\" onclick=\"convertToInteractive('df-4c146550-d88d-4144-9cb2-7ab987fd8e2a')\"\n",
              "            title=\"Convert this dataframe to an interactive table.\"\n",
              "            style=\"display:none;\">\n",
              "\n",
              "  <svg xmlns=\"http://www.w3.org/2000/svg\" height=\"24px\" viewBox=\"0 -960 960 960\">\n",
              "    <path d=\"M120-120v-720h720v720H120Zm60-500h600v-160H180v160Zm220 220h160v-160H400v160Zm0 220h160v-160H400v160ZM180-400h160v-160H180v160Zm440 0h160v-160H620v160ZM180-180h160v-160H180v160Zm440 0h160v-160H620v160Z\"/>\n",
              "  </svg>\n",
              "    </button>\n",
              "\n",
              "  <style>\n",
              "    .colab-df-container {\n",
              "      display:flex;\n",
              "      gap: 12px;\n",
              "    }\n",
              "\n",
              "    .colab-df-convert {\n",
              "      background-color: #E8F0FE;\n",
              "      border: none;\n",
              "      border-radius: 50%;\n",
              "      cursor: pointer;\n",
              "      display: none;\n",
              "      fill: #1967D2;\n",
              "      height: 32px;\n",
              "      padding: 0 0 0 0;\n",
              "      width: 32px;\n",
              "    }\n",
              "\n",
              "    .colab-df-convert:hover {\n",
              "      background-color: #E2EBFA;\n",
              "      box-shadow: 0px 1px 2px rgba(60, 64, 67, 0.3), 0px 1px 3px 1px rgba(60, 64, 67, 0.15);\n",
              "      fill: #174EA6;\n",
              "    }\n",
              "\n",
              "    .colab-df-buttons div {\n",
              "      margin-bottom: 4px;\n",
              "    }\n",
              "\n",
              "    [theme=dark] .colab-df-convert {\n",
              "      background-color: #3B4455;\n",
              "      fill: #D2E3FC;\n",
              "    }\n",
              "\n",
              "    [theme=dark] .colab-df-convert:hover {\n",
              "      background-color: #434B5C;\n",
              "      box-shadow: 0px 1px 3px 1px rgba(0, 0, 0, 0.15);\n",
              "      filter: drop-shadow(0px 1px 2px rgba(0, 0, 0, 0.3));\n",
              "      fill: #FFFFFF;\n",
              "    }\n",
              "  </style>\n",
              "\n",
              "    <script>\n",
              "      const buttonEl =\n",
              "        document.querySelector('#df-4c146550-d88d-4144-9cb2-7ab987fd8e2a button.colab-df-convert');\n",
              "      buttonEl.style.display =\n",
              "        google.colab.kernel.accessAllowed ? 'block' : 'none';\n",
              "\n",
              "      async function convertToInteractive(key) {\n",
              "        const element = document.querySelector('#df-4c146550-d88d-4144-9cb2-7ab987fd8e2a');\n",
              "        const dataTable =\n",
              "          await google.colab.kernel.invokeFunction('convertToInteractive',\n",
              "                                                    [key], {});\n",
              "        if (!dataTable) return;\n",
              "\n",
              "        const docLinkHtml = 'Like what you see? Visit the ' +\n",
              "          '<a target=\"_blank\" href=https://colab.research.google.com/notebooks/data_table.ipynb>data table notebook</a>'\n",
              "          + ' to learn more about interactive tables.';\n",
              "        element.innerHTML = '';\n",
              "        dataTable['output_type'] = 'display_data';\n",
              "        await google.colab.output.renderOutput(dataTable, element);\n",
              "        const docLink = document.createElement('div');\n",
              "        docLink.innerHTML = docLinkHtml;\n",
              "        element.appendChild(docLink);\n",
              "      }\n",
              "    </script>\n",
              "  </div>\n",
              "\n",
              "\n",
              "<div id=\"df-2c4a2645-3741-40fb-ab8b-49e02007b8e4\">\n",
              "  <button class=\"colab-df-quickchart\" onclick=\"quickchart('df-2c4a2645-3741-40fb-ab8b-49e02007b8e4')\"\n",
              "            title=\"Suggest charts\"\n",
              "            style=\"display:none;\">\n",
              "\n",
              "<svg xmlns=\"http://www.w3.org/2000/svg\" height=\"24px\"viewBox=\"0 0 24 24\"\n",
              "     width=\"24px\">\n",
              "    <g>\n",
              "        <path d=\"M19 3H5c-1.1 0-2 .9-2 2v14c0 1.1.9 2 2 2h14c1.1 0 2-.9 2-2V5c0-1.1-.9-2-2-2zM9 17H7v-7h2v7zm4 0h-2V7h2v10zm4 0h-2v-4h2v4z\"/>\n",
              "    </g>\n",
              "</svg>\n",
              "  </button>\n",
              "\n",
              "<style>\n",
              "  .colab-df-quickchart {\n",
              "      --bg-color: #E8F0FE;\n",
              "      --fill-color: #1967D2;\n",
              "      --hover-bg-color: #E2EBFA;\n",
              "      --hover-fill-color: #174EA6;\n",
              "      --disabled-fill-color: #AAA;\n",
              "      --disabled-bg-color: #DDD;\n",
              "  }\n",
              "\n",
              "  [theme=dark] .colab-df-quickchart {\n",
              "      --bg-color: #3B4455;\n",
              "      --fill-color: #D2E3FC;\n",
              "      --hover-bg-color: #434B5C;\n",
              "      --hover-fill-color: #FFFFFF;\n",
              "      --disabled-bg-color: #3B4455;\n",
              "      --disabled-fill-color: #666;\n",
              "  }\n",
              "\n",
              "  .colab-df-quickchart {\n",
              "    background-color: var(--bg-color);\n",
              "    border: none;\n",
              "    border-radius: 50%;\n",
              "    cursor: pointer;\n",
              "    display: none;\n",
              "    fill: var(--fill-color);\n",
              "    height: 32px;\n",
              "    padding: 0;\n",
              "    width: 32px;\n",
              "  }\n",
              "\n",
              "  .colab-df-quickchart:hover {\n",
              "    background-color: var(--hover-bg-color);\n",
              "    box-shadow: 0 1px 2px rgba(60, 64, 67, 0.3), 0 1px 3px 1px rgba(60, 64, 67, 0.15);\n",
              "    fill: var(--button-hover-fill-color);\n",
              "  }\n",
              "\n",
              "  .colab-df-quickchart-complete:disabled,\n",
              "  .colab-df-quickchart-complete:disabled:hover {\n",
              "    background-color: var(--disabled-bg-color);\n",
              "    fill: var(--disabled-fill-color);\n",
              "    box-shadow: none;\n",
              "  }\n",
              "\n",
              "  .colab-df-spinner {\n",
              "    border: 2px solid var(--fill-color);\n",
              "    border-color: transparent;\n",
              "    border-bottom-color: var(--fill-color);\n",
              "    animation:\n",
              "      spin 1s steps(1) infinite;\n",
              "  }\n",
              "\n",
              "  @keyframes spin {\n",
              "    0% {\n",
              "      border-color: transparent;\n",
              "      border-bottom-color: var(--fill-color);\n",
              "      border-left-color: var(--fill-color);\n",
              "    }\n",
              "    20% {\n",
              "      border-color: transparent;\n",
              "      border-left-color: var(--fill-color);\n",
              "      border-top-color: var(--fill-color);\n",
              "    }\n",
              "    30% {\n",
              "      border-color: transparent;\n",
              "      border-left-color: var(--fill-color);\n",
              "      border-top-color: var(--fill-color);\n",
              "      border-right-color: var(--fill-color);\n",
              "    }\n",
              "    40% {\n",
              "      border-color: transparent;\n",
              "      border-right-color: var(--fill-color);\n",
              "      border-top-color: var(--fill-color);\n",
              "    }\n",
              "    60% {\n",
              "      border-color: transparent;\n",
              "      border-right-color: var(--fill-color);\n",
              "    }\n",
              "    80% {\n",
              "      border-color: transparent;\n",
              "      border-right-color: var(--fill-color);\n",
              "      border-bottom-color: var(--fill-color);\n",
              "    }\n",
              "    90% {\n",
              "      border-color: transparent;\n",
              "      border-bottom-color: var(--fill-color);\n",
              "    }\n",
              "  }\n",
              "</style>\n",
              "\n",
              "  <script>\n",
              "    async function quickchart(key) {\n",
              "      const quickchartButtonEl =\n",
              "        document.querySelector('#' + key + ' button');\n",
              "      quickchartButtonEl.disabled = true;  // To prevent multiple clicks.\n",
              "      quickchartButtonEl.classList.add('colab-df-spinner');\n",
              "      try {\n",
              "        const charts = await google.colab.kernel.invokeFunction(\n",
              "            'suggestCharts', [key], {});\n",
              "      } catch (error) {\n",
              "        console.error('Error during call to suggestCharts:', error);\n",
              "      }\n",
              "      quickchartButtonEl.classList.remove('colab-df-spinner');\n",
              "      quickchartButtonEl.classList.add('colab-df-quickchart-complete');\n",
              "    }\n",
              "    (() => {\n",
              "      let quickchartButtonEl =\n",
              "        document.querySelector('#df-2c4a2645-3741-40fb-ab8b-49e02007b8e4 button');\n",
              "      quickchartButtonEl.style.display =\n",
              "        google.colab.kernel.accessAllowed ? 'block' : 'none';\n",
              "    })();\n",
              "  </script>\n",
              "</div>\n",
              "    </div>\n",
              "  </div>\n"
            ]
          },
          "metadata": {},
          "execution_count": 6
        }
      ],
      "source": [
        "gt = pd.read_csv('train_gt.csv')\n",
        "gt"
      ]
    },
    {
      "cell_type": "code",
      "execution_count": 7,
      "id": "00cfc29a",
      "metadata": {
        "colab": {
          "base_uri": "https://localhost:8080/",
          "height": 423
        },
        "id": "00cfc29a",
        "outputId": "c0160b8a-3dad-4a80-e8a9-1fc2c2cb8122"
      },
      "outputs": [
        {
          "output_type": "execute_result",
          "data": {
            "text/plain": [
              "      sample_index             filepath     P      K     Mg   pH\n",
              "0                0     train_data/0.npz  45.1  188.0  179.0  7.2\n",
              "1                1     train_data/1.npz  44.8  205.0  188.0  7.0\n",
              "2                2     train_data/2.npz  44.4  207.0  145.0  6.8\n",
              "3                3     train_data/3.npz  46.5  204.0  143.0  6.8\n",
              "4                4     train_data/4.npz  52.0  212.0  167.0  6.7\n",
              "...            ...                  ...   ...    ...    ...  ...\n",
              "1727          1727  train_data/1727.npz  40.8  133.0  132.0  6.2\n",
              "1728          1728  train_data/1728.npz  42.7  192.0  126.0  6.5\n",
              "1729          1729  train_data/1729.npz  39.4  180.0  122.0  6.5\n",
              "1730          1730  train_data/1730.npz  37.3  162.0  127.0  6.5\n",
              "1731          1731  train_data/1731.npz  29.5  146.0  133.0  6.3\n",
              "\n",
              "[1732 rows x 6 columns]"
            ],
            "text/html": [
              "\n",
              "  <div id=\"df-d2eac65a-2def-41b4-b1c2-158d11e763e7\" class=\"colab-df-container\">\n",
              "    <div>\n",
              "<style scoped>\n",
              "    .dataframe tbody tr th:only-of-type {\n",
              "        vertical-align: middle;\n",
              "    }\n",
              "\n",
              "    .dataframe tbody tr th {\n",
              "        vertical-align: top;\n",
              "    }\n",
              "\n",
              "    .dataframe thead th {\n",
              "        text-align: right;\n",
              "    }\n",
              "</style>\n",
              "<table border=\"1\" class=\"dataframe\">\n",
              "  <thead>\n",
              "    <tr style=\"text-align: right;\">\n",
              "      <th></th>\n",
              "      <th>sample_index</th>\n",
              "      <th>filepath</th>\n",
              "      <th>P</th>\n",
              "      <th>K</th>\n",
              "      <th>Mg</th>\n",
              "      <th>pH</th>\n",
              "    </tr>\n",
              "  </thead>\n",
              "  <tbody>\n",
              "    <tr>\n",
              "      <th>0</th>\n",
              "      <td>0</td>\n",
              "      <td>train_data/0.npz</td>\n",
              "      <td>45.1</td>\n",
              "      <td>188.0</td>\n",
              "      <td>179.0</td>\n",
              "      <td>7.2</td>\n",
              "    </tr>\n",
              "    <tr>\n",
              "      <th>1</th>\n",
              "      <td>1</td>\n",
              "      <td>train_data/1.npz</td>\n",
              "      <td>44.8</td>\n",
              "      <td>205.0</td>\n",
              "      <td>188.0</td>\n",
              "      <td>7.0</td>\n",
              "    </tr>\n",
              "    <tr>\n",
              "      <th>2</th>\n",
              "      <td>2</td>\n",
              "      <td>train_data/2.npz</td>\n",
              "      <td>44.4</td>\n",
              "      <td>207.0</td>\n",
              "      <td>145.0</td>\n",
              "      <td>6.8</td>\n",
              "    </tr>\n",
              "    <tr>\n",
              "      <th>3</th>\n",
              "      <td>3</td>\n",
              "      <td>train_data/3.npz</td>\n",
              "      <td>46.5</td>\n",
              "      <td>204.0</td>\n",
              "      <td>143.0</td>\n",
              "      <td>6.8</td>\n",
              "    </tr>\n",
              "    <tr>\n",
              "      <th>4</th>\n",
              "      <td>4</td>\n",
              "      <td>train_data/4.npz</td>\n",
              "      <td>52.0</td>\n",
              "      <td>212.0</td>\n",
              "      <td>167.0</td>\n",
              "      <td>6.7</td>\n",
              "    </tr>\n",
              "    <tr>\n",
              "      <th>...</th>\n",
              "      <td>...</td>\n",
              "      <td>...</td>\n",
              "      <td>...</td>\n",
              "      <td>...</td>\n",
              "      <td>...</td>\n",
              "      <td>...</td>\n",
              "    </tr>\n",
              "    <tr>\n",
              "      <th>1727</th>\n",
              "      <td>1727</td>\n",
              "      <td>train_data/1727.npz</td>\n",
              "      <td>40.8</td>\n",
              "      <td>133.0</td>\n",
              "      <td>132.0</td>\n",
              "      <td>6.2</td>\n",
              "    </tr>\n",
              "    <tr>\n",
              "      <th>1728</th>\n",
              "      <td>1728</td>\n",
              "      <td>train_data/1728.npz</td>\n",
              "      <td>42.7</td>\n",
              "      <td>192.0</td>\n",
              "      <td>126.0</td>\n",
              "      <td>6.5</td>\n",
              "    </tr>\n",
              "    <tr>\n",
              "      <th>1729</th>\n",
              "      <td>1729</td>\n",
              "      <td>train_data/1729.npz</td>\n",
              "      <td>39.4</td>\n",
              "      <td>180.0</td>\n",
              "      <td>122.0</td>\n",
              "      <td>6.5</td>\n",
              "    </tr>\n",
              "    <tr>\n",
              "      <th>1730</th>\n",
              "      <td>1730</td>\n",
              "      <td>train_data/1730.npz</td>\n",
              "      <td>37.3</td>\n",
              "      <td>162.0</td>\n",
              "      <td>127.0</td>\n",
              "      <td>6.5</td>\n",
              "    </tr>\n",
              "    <tr>\n",
              "      <th>1731</th>\n",
              "      <td>1731</td>\n",
              "      <td>train_data/1731.npz</td>\n",
              "      <td>29.5</td>\n",
              "      <td>146.0</td>\n",
              "      <td>133.0</td>\n",
              "      <td>6.3</td>\n",
              "    </tr>\n",
              "  </tbody>\n",
              "</table>\n",
              "<p>1732 rows × 6 columns</p>\n",
              "</div>\n",
              "    <div class=\"colab-df-buttons\">\n",
              "\n",
              "  <div class=\"colab-df-container\">\n",
              "    <button class=\"colab-df-convert\" onclick=\"convertToInteractive('df-d2eac65a-2def-41b4-b1c2-158d11e763e7')\"\n",
              "            title=\"Convert this dataframe to an interactive table.\"\n",
              "            style=\"display:none;\">\n",
              "\n",
              "  <svg xmlns=\"http://www.w3.org/2000/svg\" height=\"24px\" viewBox=\"0 -960 960 960\">\n",
              "    <path d=\"M120-120v-720h720v720H120Zm60-500h600v-160H180v160Zm220 220h160v-160H400v160Zm0 220h160v-160H400v160ZM180-400h160v-160H180v160Zm440 0h160v-160H620v160ZM180-180h160v-160H180v160Zm440 0h160v-160H620v160Z\"/>\n",
              "  </svg>\n",
              "    </button>\n",
              "\n",
              "  <style>\n",
              "    .colab-df-container {\n",
              "      display:flex;\n",
              "      gap: 12px;\n",
              "    }\n",
              "\n",
              "    .colab-df-convert {\n",
              "      background-color: #E8F0FE;\n",
              "      border: none;\n",
              "      border-radius: 50%;\n",
              "      cursor: pointer;\n",
              "      display: none;\n",
              "      fill: #1967D2;\n",
              "      height: 32px;\n",
              "      padding: 0 0 0 0;\n",
              "      width: 32px;\n",
              "    }\n",
              "\n",
              "    .colab-df-convert:hover {\n",
              "      background-color: #E2EBFA;\n",
              "      box-shadow: 0px 1px 2px rgba(60, 64, 67, 0.3), 0px 1px 3px 1px rgba(60, 64, 67, 0.15);\n",
              "      fill: #174EA6;\n",
              "    }\n",
              "\n",
              "    .colab-df-buttons div {\n",
              "      margin-bottom: 4px;\n",
              "    }\n",
              "\n",
              "    [theme=dark] .colab-df-convert {\n",
              "      background-color: #3B4455;\n",
              "      fill: #D2E3FC;\n",
              "    }\n",
              "\n",
              "    [theme=dark] .colab-df-convert:hover {\n",
              "      background-color: #434B5C;\n",
              "      box-shadow: 0px 1px 3px 1px rgba(0, 0, 0, 0.15);\n",
              "      filter: drop-shadow(0px 1px 2px rgba(0, 0, 0, 0.3));\n",
              "      fill: #FFFFFF;\n",
              "    }\n",
              "  </style>\n",
              "\n",
              "    <script>\n",
              "      const buttonEl =\n",
              "        document.querySelector('#df-d2eac65a-2def-41b4-b1c2-158d11e763e7 button.colab-df-convert');\n",
              "      buttonEl.style.display =\n",
              "        google.colab.kernel.accessAllowed ? 'block' : 'none';\n",
              "\n",
              "      async function convertToInteractive(key) {\n",
              "        const element = document.querySelector('#df-d2eac65a-2def-41b4-b1c2-158d11e763e7');\n",
              "        const dataTable =\n",
              "          await google.colab.kernel.invokeFunction('convertToInteractive',\n",
              "                                                    [key], {});\n",
              "        if (!dataTable) return;\n",
              "\n",
              "        const docLinkHtml = 'Like what you see? Visit the ' +\n",
              "          '<a target=\"_blank\" href=https://colab.research.google.com/notebooks/data_table.ipynb>data table notebook</a>'\n",
              "          + ' to learn more about interactive tables.';\n",
              "        element.innerHTML = '';\n",
              "        dataTable['output_type'] = 'display_data';\n",
              "        await google.colab.output.renderOutput(dataTable, element);\n",
              "        const docLink = document.createElement('div');\n",
              "        docLink.innerHTML = docLinkHtml;\n",
              "        element.appendChild(docLink);\n",
              "      }\n",
              "    </script>\n",
              "  </div>\n",
              "\n",
              "\n",
              "<div id=\"df-cfa8fe4d-1c4c-4ee4-9f77-394cff074e4f\">\n",
              "  <button class=\"colab-df-quickchart\" onclick=\"quickchart('df-cfa8fe4d-1c4c-4ee4-9f77-394cff074e4f')\"\n",
              "            title=\"Suggest charts\"\n",
              "            style=\"display:none;\">\n",
              "\n",
              "<svg xmlns=\"http://www.w3.org/2000/svg\" height=\"24px\"viewBox=\"0 0 24 24\"\n",
              "     width=\"24px\">\n",
              "    <g>\n",
              "        <path d=\"M19 3H5c-1.1 0-2 .9-2 2v14c0 1.1.9 2 2 2h14c1.1 0 2-.9 2-2V5c0-1.1-.9-2-2-2zM9 17H7v-7h2v7zm4 0h-2V7h2v10zm4 0h-2v-4h2v4z\"/>\n",
              "    </g>\n",
              "</svg>\n",
              "  </button>\n",
              "\n",
              "<style>\n",
              "  .colab-df-quickchart {\n",
              "      --bg-color: #E8F0FE;\n",
              "      --fill-color: #1967D2;\n",
              "      --hover-bg-color: #E2EBFA;\n",
              "      --hover-fill-color: #174EA6;\n",
              "      --disabled-fill-color: #AAA;\n",
              "      --disabled-bg-color: #DDD;\n",
              "  }\n",
              "\n",
              "  [theme=dark] .colab-df-quickchart {\n",
              "      --bg-color: #3B4455;\n",
              "      --fill-color: #D2E3FC;\n",
              "      --hover-bg-color: #434B5C;\n",
              "      --hover-fill-color: #FFFFFF;\n",
              "      --disabled-bg-color: #3B4455;\n",
              "      --disabled-fill-color: #666;\n",
              "  }\n",
              "\n",
              "  .colab-df-quickchart {\n",
              "    background-color: var(--bg-color);\n",
              "    border: none;\n",
              "    border-radius: 50%;\n",
              "    cursor: pointer;\n",
              "    display: none;\n",
              "    fill: var(--fill-color);\n",
              "    height: 32px;\n",
              "    padding: 0;\n",
              "    width: 32px;\n",
              "  }\n",
              "\n",
              "  .colab-df-quickchart:hover {\n",
              "    background-color: var(--hover-bg-color);\n",
              "    box-shadow: 0 1px 2px rgba(60, 64, 67, 0.3), 0 1px 3px 1px rgba(60, 64, 67, 0.15);\n",
              "    fill: var(--button-hover-fill-color);\n",
              "  }\n",
              "\n",
              "  .colab-df-quickchart-complete:disabled,\n",
              "  .colab-df-quickchart-complete:disabled:hover {\n",
              "    background-color: var(--disabled-bg-color);\n",
              "    fill: var(--disabled-fill-color);\n",
              "    box-shadow: none;\n",
              "  }\n",
              "\n",
              "  .colab-df-spinner {\n",
              "    border: 2px solid var(--fill-color);\n",
              "    border-color: transparent;\n",
              "    border-bottom-color: var(--fill-color);\n",
              "    animation:\n",
              "      spin 1s steps(1) infinite;\n",
              "  }\n",
              "\n",
              "  @keyframes spin {\n",
              "    0% {\n",
              "      border-color: transparent;\n",
              "      border-bottom-color: var(--fill-color);\n",
              "      border-left-color: var(--fill-color);\n",
              "    }\n",
              "    20% {\n",
              "      border-color: transparent;\n",
              "      border-left-color: var(--fill-color);\n",
              "      border-top-color: var(--fill-color);\n",
              "    }\n",
              "    30% {\n",
              "      border-color: transparent;\n",
              "      border-left-color: var(--fill-color);\n",
              "      border-top-color: var(--fill-color);\n",
              "      border-right-color: var(--fill-color);\n",
              "    }\n",
              "    40% {\n",
              "      border-color: transparent;\n",
              "      border-right-color: var(--fill-color);\n",
              "      border-top-color: var(--fill-color);\n",
              "    }\n",
              "    60% {\n",
              "      border-color: transparent;\n",
              "      border-right-color: var(--fill-color);\n",
              "    }\n",
              "    80% {\n",
              "      border-color: transparent;\n",
              "      border-right-color: var(--fill-color);\n",
              "      border-bottom-color: var(--fill-color);\n",
              "    }\n",
              "    90% {\n",
              "      border-color: transparent;\n",
              "      border-bottom-color: var(--fill-color);\n",
              "    }\n",
              "  }\n",
              "</style>\n",
              "\n",
              "  <script>\n",
              "    async function quickchart(key) {\n",
              "      const quickchartButtonEl =\n",
              "        document.querySelector('#' + key + ' button');\n",
              "      quickchartButtonEl.disabled = true;  // To prevent multiple clicks.\n",
              "      quickchartButtonEl.classList.add('colab-df-spinner');\n",
              "      try {\n",
              "        const charts = await google.colab.kernel.invokeFunction(\n",
              "            'suggestCharts', [key], {});\n",
              "      } catch (error) {\n",
              "        console.error('Error during call to suggestCharts:', error);\n",
              "      }\n",
              "      quickchartButtonEl.classList.remove('colab-df-spinner');\n",
              "      quickchartButtonEl.classList.add('colab-df-quickchart-complete');\n",
              "    }\n",
              "    (() => {\n",
              "      let quickchartButtonEl =\n",
              "        document.querySelector('#df-cfa8fe4d-1c4c-4ee4-9f77-394cff074e4f button');\n",
              "      quickchartButtonEl.style.display =\n",
              "        google.colab.kernel.accessAllowed ? 'block' : 'none';\n",
              "    })();\n",
              "  </script>\n",
              "</div>\n",
              "    </div>\n",
              "  </div>\n"
            ]
          },
          "metadata": {},
          "execution_count": 7
        }
      ],
      "source": [
        "train = pd.DataFrame(glob.glob('train_data/*.npz'), columns=['filepath'])\n",
        "train['sample_index'] = train.filepath.apply(lambda x: x.split(os.sep)[-1].split('.npz')[0]).astype('int')\n",
        "\n",
        "train = train.sort_values('sample_index', ignore_index=True)\n",
        "train = train[['sample_index', 'filepath']]\n",
        "\n",
        "train = train.merge(gt, on='sample_index', how='left')\n",
        "train"
      ]
    },
    {
      "cell_type": "code",
      "execution_count": 8,
      "id": "55953ccb",
      "metadata": {
        "colab": {
          "base_uri": "https://localhost:8080/",
          "height": 423
        },
        "id": "55953ccb",
        "outputId": "b76c52f4-e292-4243-a7f3-3bb0293bfbcd"
      },
      "outputs": [
        {
          "output_type": "execute_result",
          "data": {
            "text/plain": [
              "      sample_index            filepath\n",
              "0                0     test_data/0.npz\n",
              "1                1     test_data/1.npz\n",
              "2                2     test_data/2.npz\n",
              "3                3     test_data/3.npz\n",
              "4                4     test_data/4.npz\n",
              "...            ...                 ...\n",
              "1149          1149  test_data/1149.npz\n",
              "1150          1150  test_data/1150.npz\n",
              "1151          1151  test_data/1151.npz\n",
              "1152          1152  test_data/1152.npz\n",
              "1153          1153  test_data/1153.npz\n",
              "\n",
              "[1154 rows x 2 columns]"
            ],
            "text/html": [
              "\n",
              "  <div id=\"df-23c7de72-3a41-4fdf-9301-c46f90961b53\" class=\"colab-df-container\">\n",
              "    <div>\n",
              "<style scoped>\n",
              "    .dataframe tbody tr th:only-of-type {\n",
              "        vertical-align: middle;\n",
              "    }\n",
              "\n",
              "    .dataframe tbody tr th {\n",
              "        vertical-align: top;\n",
              "    }\n",
              "\n",
              "    .dataframe thead th {\n",
              "        text-align: right;\n",
              "    }\n",
              "</style>\n",
              "<table border=\"1\" class=\"dataframe\">\n",
              "  <thead>\n",
              "    <tr style=\"text-align: right;\">\n",
              "      <th></th>\n",
              "      <th>sample_index</th>\n",
              "      <th>filepath</th>\n",
              "    </tr>\n",
              "  </thead>\n",
              "  <tbody>\n",
              "    <tr>\n",
              "      <th>0</th>\n",
              "      <td>0</td>\n",
              "      <td>test_data/0.npz</td>\n",
              "    </tr>\n",
              "    <tr>\n",
              "      <th>1</th>\n",
              "      <td>1</td>\n",
              "      <td>test_data/1.npz</td>\n",
              "    </tr>\n",
              "    <tr>\n",
              "      <th>2</th>\n",
              "      <td>2</td>\n",
              "      <td>test_data/2.npz</td>\n",
              "    </tr>\n",
              "    <tr>\n",
              "      <th>3</th>\n",
              "      <td>3</td>\n",
              "      <td>test_data/3.npz</td>\n",
              "    </tr>\n",
              "    <tr>\n",
              "      <th>4</th>\n",
              "      <td>4</td>\n",
              "      <td>test_data/4.npz</td>\n",
              "    </tr>\n",
              "    <tr>\n",
              "      <th>...</th>\n",
              "      <td>...</td>\n",
              "      <td>...</td>\n",
              "    </tr>\n",
              "    <tr>\n",
              "      <th>1149</th>\n",
              "      <td>1149</td>\n",
              "      <td>test_data/1149.npz</td>\n",
              "    </tr>\n",
              "    <tr>\n",
              "      <th>1150</th>\n",
              "      <td>1150</td>\n",
              "      <td>test_data/1150.npz</td>\n",
              "    </tr>\n",
              "    <tr>\n",
              "      <th>1151</th>\n",
              "      <td>1151</td>\n",
              "      <td>test_data/1151.npz</td>\n",
              "    </tr>\n",
              "    <tr>\n",
              "      <th>1152</th>\n",
              "      <td>1152</td>\n",
              "      <td>test_data/1152.npz</td>\n",
              "    </tr>\n",
              "    <tr>\n",
              "      <th>1153</th>\n",
              "      <td>1153</td>\n",
              "      <td>test_data/1153.npz</td>\n",
              "    </tr>\n",
              "  </tbody>\n",
              "</table>\n",
              "<p>1154 rows × 2 columns</p>\n",
              "</div>\n",
              "    <div class=\"colab-df-buttons\">\n",
              "\n",
              "  <div class=\"colab-df-container\">\n",
              "    <button class=\"colab-df-convert\" onclick=\"convertToInteractive('df-23c7de72-3a41-4fdf-9301-c46f90961b53')\"\n",
              "            title=\"Convert this dataframe to an interactive table.\"\n",
              "            style=\"display:none;\">\n",
              "\n",
              "  <svg xmlns=\"http://www.w3.org/2000/svg\" height=\"24px\" viewBox=\"0 -960 960 960\">\n",
              "    <path d=\"M120-120v-720h720v720H120Zm60-500h600v-160H180v160Zm220 220h160v-160H400v160Zm0 220h160v-160H400v160ZM180-400h160v-160H180v160Zm440 0h160v-160H620v160ZM180-180h160v-160H180v160Zm440 0h160v-160H620v160Z\"/>\n",
              "  </svg>\n",
              "    </button>\n",
              "\n",
              "  <style>\n",
              "    .colab-df-container {\n",
              "      display:flex;\n",
              "      gap: 12px;\n",
              "    }\n",
              "\n",
              "    .colab-df-convert {\n",
              "      background-color: #E8F0FE;\n",
              "      border: none;\n",
              "      border-radius: 50%;\n",
              "      cursor: pointer;\n",
              "      display: none;\n",
              "      fill: #1967D2;\n",
              "      height: 32px;\n",
              "      padding: 0 0 0 0;\n",
              "      width: 32px;\n",
              "    }\n",
              "\n",
              "    .colab-df-convert:hover {\n",
              "      background-color: #E2EBFA;\n",
              "      box-shadow: 0px 1px 2px rgba(60, 64, 67, 0.3), 0px 1px 3px 1px rgba(60, 64, 67, 0.15);\n",
              "      fill: #174EA6;\n",
              "    }\n",
              "\n",
              "    .colab-df-buttons div {\n",
              "      margin-bottom: 4px;\n",
              "    }\n",
              "\n",
              "    [theme=dark] .colab-df-convert {\n",
              "      background-color: #3B4455;\n",
              "      fill: #D2E3FC;\n",
              "    }\n",
              "\n",
              "    [theme=dark] .colab-df-convert:hover {\n",
              "      background-color: #434B5C;\n",
              "      box-shadow: 0px 1px 3px 1px rgba(0, 0, 0, 0.15);\n",
              "      filter: drop-shadow(0px 1px 2px rgba(0, 0, 0, 0.3));\n",
              "      fill: #FFFFFF;\n",
              "    }\n",
              "  </style>\n",
              "\n",
              "    <script>\n",
              "      const buttonEl =\n",
              "        document.querySelector('#df-23c7de72-3a41-4fdf-9301-c46f90961b53 button.colab-df-convert');\n",
              "      buttonEl.style.display =\n",
              "        google.colab.kernel.accessAllowed ? 'block' : 'none';\n",
              "\n",
              "      async function convertToInteractive(key) {\n",
              "        const element = document.querySelector('#df-23c7de72-3a41-4fdf-9301-c46f90961b53');\n",
              "        const dataTable =\n",
              "          await google.colab.kernel.invokeFunction('convertToInteractive',\n",
              "                                                    [key], {});\n",
              "        if (!dataTable) return;\n",
              "\n",
              "        const docLinkHtml = 'Like what you see? Visit the ' +\n",
              "          '<a target=\"_blank\" href=https://colab.research.google.com/notebooks/data_table.ipynb>data table notebook</a>'\n",
              "          + ' to learn more about interactive tables.';\n",
              "        element.innerHTML = '';\n",
              "        dataTable['output_type'] = 'display_data';\n",
              "        await google.colab.output.renderOutput(dataTable, element);\n",
              "        const docLink = document.createElement('div');\n",
              "        docLink.innerHTML = docLinkHtml;\n",
              "        element.appendChild(docLink);\n",
              "      }\n",
              "    </script>\n",
              "  </div>\n",
              "\n",
              "\n",
              "<div id=\"df-18f812cc-ece2-48f5-98e2-35889acaa60a\">\n",
              "  <button class=\"colab-df-quickchart\" onclick=\"quickchart('df-18f812cc-ece2-48f5-98e2-35889acaa60a')\"\n",
              "            title=\"Suggest charts\"\n",
              "            style=\"display:none;\">\n",
              "\n",
              "<svg xmlns=\"http://www.w3.org/2000/svg\" height=\"24px\"viewBox=\"0 0 24 24\"\n",
              "     width=\"24px\">\n",
              "    <g>\n",
              "        <path d=\"M19 3H5c-1.1 0-2 .9-2 2v14c0 1.1.9 2 2 2h14c1.1 0 2-.9 2-2V5c0-1.1-.9-2-2-2zM9 17H7v-7h2v7zm4 0h-2V7h2v10zm4 0h-2v-4h2v4z\"/>\n",
              "    </g>\n",
              "</svg>\n",
              "  </button>\n",
              "\n",
              "<style>\n",
              "  .colab-df-quickchart {\n",
              "      --bg-color: #E8F0FE;\n",
              "      --fill-color: #1967D2;\n",
              "      --hover-bg-color: #E2EBFA;\n",
              "      --hover-fill-color: #174EA6;\n",
              "      --disabled-fill-color: #AAA;\n",
              "      --disabled-bg-color: #DDD;\n",
              "  }\n",
              "\n",
              "  [theme=dark] .colab-df-quickchart {\n",
              "      --bg-color: #3B4455;\n",
              "      --fill-color: #D2E3FC;\n",
              "      --hover-bg-color: #434B5C;\n",
              "      --hover-fill-color: #FFFFFF;\n",
              "      --disabled-bg-color: #3B4455;\n",
              "      --disabled-fill-color: #666;\n",
              "  }\n",
              "\n",
              "  .colab-df-quickchart {\n",
              "    background-color: var(--bg-color);\n",
              "    border: none;\n",
              "    border-radius: 50%;\n",
              "    cursor: pointer;\n",
              "    display: none;\n",
              "    fill: var(--fill-color);\n",
              "    height: 32px;\n",
              "    padding: 0;\n",
              "    width: 32px;\n",
              "  }\n",
              "\n",
              "  .colab-df-quickchart:hover {\n",
              "    background-color: var(--hover-bg-color);\n",
              "    box-shadow: 0 1px 2px rgba(60, 64, 67, 0.3), 0 1px 3px 1px rgba(60, 64, 67, 0.15);\n",
              "    fill: var(--button-hover-fill-color);\n",
              "  }\n",
              "\n",
              "  .colab-df-quickchart-complete:disabled,\n",
              "  .colab-df-quickchart-complete:disabled:hover {\n",
              "    background-color: var(--disabled-bg-color);\n",
              "    fill: var(--disabled-fill-color);\n",
              "    box-shadow: none;\n",
              "  }\n",
              "\n",
              "  .colab-df-spinner {\n",
              "    border: 2px solid var(--fill-color);\n",
              "    border-color: transparent;\n",
              "    border-bottom-color: var(--fill-color);\n",
              "    animation:\n",
              "      spin 1s steps(1) infinite;\n",
              "  }\n",
              "\n",
              "  @keyframes spin {\n",
              "    0% {\n",
              "      border-color: transparent;\n",
              "      border-bottom-color: var(--fill-color);\n",
              "      border-left-color: var(--fill-color);\n",
              "    }\n",
              "    20% {\n",
              "      border-color: transparent;\n",
              "      border-left-color: var(--fill-color);\n",
              "      border-top-color: var(--fill-color);\n",
              "    }\n",
              "    30% {\n",
              "      border-color: transparent;\n",
              "      border-left-color: var(--fill-color);\n",
              "      border-top-color: var(--fill-color);\n",
              "      border-right-color: var(--fill-color);\n",
              "    }\n",
              "    40% {\n",
              "      border-color: transparent;\n",
              "      border-right-color: var(--fill-color);\n",
              "      border-top-color: var(--fill-color);\n",
              "    }\n",
              "    60% {\n",
              "      border-color: transparent;\n",
              "      border-right-color: var(--fill-color);\n",
              "    }\n",
              "    80% {\n",
              "      border-color: transparent;\n",
              "      border-right-color: var(--fill-color);\n",
              "      border-bottom-color: var(--fill-color);\n",
              "    }\n",
              "    90% {\n",
              "      border-color: transparent;\n",
              "      border-bottom-color: var(--fill-color);\n",
              "    }\n",
              "  }\n",
              "</style>\n",
              "\n",
              "  <script>\n",
              "    async function quickchart(key) {\n",
              "      const quickchartButtonEl =\n",
              "        document.querySelector('#' + key + ' button');\n",
              "      quickchartButtonEl.disabled = true;  // To prevent multiple clicks.\n",
              "      quickchartButtonEl.classList.add('colab-df-spinner');\n",
              "      try {\n",
              "        const charts = await google.colab.kernel.invokeFunction(\n",
              "            'suggestCharts', [key], {});\n",
              "      } catch (error) {\n",
              "        console.error('Error during call to suggestCharts:', error);\n",
              "      }\n",
              "      quickchartButtonEl.classList.remove('colab-df-spinner');\n",
              "      quickchartButtonEl.classList.add('colab-df-quickchart-complete');\n",
              "    }\n",
              "    (() => {\n",
              "      let quickchartButtonEl =\n",
              "        document.querySelector('#df-18f812cc-ece2-48f5-98e2-35889acaa60a button');\n",
              "      quickchartButtonEl.style.display =\n",
              "        google.colab.kernel.accessAllowed ? 'block' : 'none';\n",
              "    })();\n",
              "  </script>\n",
              "</div>\n",
              "    </div>\n",
              "  </div>\n"
            ]
          },
          "metadata": {},
          "execution_count": 8
        }
      ],
      "source": [
        "test = pd.DataFrame(glob.glob('test_data/*.npz'), columns=['filepath'])\n",
        "test['sample_index'] = test.filepath.apply(lambda x: x.split(os.sep)[-1].split('.npz')[0]).astype('int')\n",
        "\n",
        "test = test.sort_values('sample_index', ignore_index=True)\n",
        "test = test[['sample_index', 'filepath']]\n",
        "\n",
        "test"
      ]
    },
    {
      "cell_type": "code",
      "execution_count": 9,
      "id": "aff6bb27",
      "metadata": {
        "colab": {
          "base_uri": "https://localhost:8080/"
        },
        "id": "aff6bb27",
        "outputId": "340009de-d1f1-48cf-9833-7cb160356a93"
      },
      "outputs": [
        {
          "output_type": "execute_result",
          "data": {
            "text/plain": [
              "array([[ 45.1, 188. , 179. ,   7.2],\n",
              "       [ 44.8, 205. , 188. ,   7. ],\n",
              "       [ 44.4, 207. , 145. ,   6.8],\n",
              "       ...,\n",
              "       [ 39.4, 180. , 122. ,   6.5],\n",
              "       [ 37.3, 162. , 127. ,   6.5],\n",
              "       [ 29.5, 146. , 133. ,   6.3]])"
            ]
          },
          "metadata": {},
          "execution_count": 9
        }
      ],
      "source": [
        "train[['P', 'K', 'Mg', 'pH']].values"
      ]
    },
    {
      "cell_type": "code",
      "execution_count": 10,
      "id": "22b07a92",
      "metadata": {
        "id": "22b07a92"
      },
      "outputs": [],
      "source": [
        "def extract_data(file_name):\n",
        "    with np.load(file_name) as npz:\n",
        "        arr = np.ma.MaskedArray(**npz)\n",
        "        data = arr.data\n",
        "        mask = arr.mask\n",
        "    return {'hsi': data, 'mask': mask}"
      ]
    },
    {
      "cell_type": "code",
      "execution_count": null,
      "id": "8f435566",
      "metadata": {
        "scrolled": false,
        "colab": {
          "referenced_widgets": [
            "e603eab240e64c77b465f9dcf58ac5df"
          ]
        },
        "id": "8f435566",
        "outputId": "4effac72-6133-42df-d039-96e27db72f0c"
      },
      "outputs": [
        {
          "data": {
            "application/vnd.jupyter.widget-view+json": {
              "model_id": "e603eab240e64c77b465f9dcf58ac5df",
              "version_major": 2,
              "version_minor": 0
            },
            "text/plain": [
              "VBox(children=(HBox(children=(IntProgress(value=0, description='0.00%', max=109), Label(value='0 / 109'))), HB…"
            ]
          },
          "metadata": {},
          "output_type": "display_data"
        },
        {
          "name": "stdout",
          "output_type": "stream",
          "text": [
            "CPU times: user 4.42 s, sys: 5.79 s, total: 10.2 s\n",
            "Wall time: 10.8 s\n"
          ]
        }
      ],
      "source": [
        "%%time\n",
        "train_data = train.filepath.parallel_apply(extract_data)"
      ]
    },
    {
      "cell_type": "code",
      "execution_count": null,
      "id": "9a9c49cb",
      "metadata": {
        "id": "9a9c49cb"
      },
      "outputs": [],
      "source": [
        "train[['hsi', 'mask']] = pd.DataFrame(train_data.tolist())"
      ]
    },
    {
      "cell_type": "code",
      "execution_count": null,
      "id": "49e5e450",
      "metadata": {
        "colab": {
          "referenced_widgets": [
            "eb2193cd5ec24ee2b7c60c464f715b11"
          ]
        },
        "id": "49e5e450",
        "outputId": "434cbb7b-d861-4efb-af9d-508f139822cf"
      },
      "outputs": [
        {
          "data": {
            "application/vnd.jupyter.widget-view+json": {
              "model_id": "eb2193cd5ec24ee2b7c60c464f715b11",
              "version_major": 2,
              "version_minor": 0
            },
            "text/plain": [
              "VBox(children=(HBox(children=(IntProgress(value=0, description='0.00%', max=73), Label(value='0 / 73'))), HBox…"
            ]
          },
          "metadata": {},
          "output_type": "display_data"
        },
        {
          "name": "stdout",
          "output_type": "stream",
          "text": [
            "CPU times: user 2.78 s, sys: 4.31 s, total: 7.1 s\n",
            "Wall time: 7.6 s\n"
          ]
        }
      ],
      "source": [
        "%%time\n",
        "test_data = test.filepath.parallel_apply(extract_data)"
      ]
    },
    {
      "cell_type": "code",
      "execution_count": null,
      "id": "e65f67c3",
      "metadata": {
        "id": "e65f67c3"
      },
      "outputs": [],
      "source": [
        "test[['hsi', 'mask']] = pd.DataFrame(test_data.tolist())"
      ]
    },
    {
      "cell_type": "code",
      "execution_count": null,
      "id": "c170d70b",
      "metadata": {
        "id": "c170d70b",
        "outputId": "41c60a0f-219a-4699-fa11-3166834a5b1d"
      },
      "outputs": [
        {
          "data": {
            "text/html": [
              "<div>\n",
              "<style scoped>\n",
              "    .dataframe tbody tr th:only-of-type {\n",
              "        vertical-align: middle;\n",
              "    }\n",
              "\n",
              "    .dataframe tbody tr th {\n",
              "        vertical-align: top;\n",
              "    }\n",
              "\n",
              "    .dataframe thead th {\n",
              "        text-align: right;\n",
              "    }\n",
              "</style>\n",
              "<table border=\"1\" class=\"dataframe\">\n",
              "  <thead>\n",
              "    <tr style=\"text-align: right;\">\n",
              "      <th></th>\n",
              "      <th>sample_index</th>\n",
              "      <th>P</th>\n",
              "      <th>K</th>\n",
              "      <th>Mg</th>\n",
              "      <th>pH</th>\n",
              "    </tr>\n",
              "  </thead>\n",
              "  <tbody>\n",
              "    <tr>\n",
              "      <th>count</th>\n",
              "      <td>1732.00000</td>\n",
              "      <td>1732.000000</td>\n",
              "      <td>1732.000000</td>\n",
              "      <td>1732.000000</td>\n",
              "      <td>1732.000000</td>\n",
              "    </tr>\n",
              "    <tr>\n",
              "      <th>mean</th>\n",
              "      <td>865.50000</td>\n",
              "      <td>70.302656</td>\n",
              "      <td>227.988510</td>\n",
              "      <td>159.281236</td>\n",
              "      <td>6.782719</td>\n",
              "    </tr>\n",
              "    <tr>\n",
              "      <th>std</th>\n",
              "      <td>500.12965</td>\n",
              "      <td>29.504784</td>\n",
              "      <td>61.891989</td>\n",
              "      <td>39.871829</td>\n",
              "      <td>0.260298</td>\n",
              "    </tr>\n",
              "    <tr>\n",
              "      <th>min</th>\n",
              "      <td>0.00000</td>\n",
              "      <td>20.300000</td>\n",
              "      <td>21.100000</td>\n",
              "      <td>26.800000</td>\n",
              "      <td>5.600000</td>\n",
              "    </tr>\n",
              "    <tr>\n",
              "      <th>25%</th>\n",
              "      <td>432.75000</td>\n",
              "      <td>51.175000</td>\n",
              "      <td>189.000000</td>\n",
              "      <td>134.000000</td>\n",
              "      <td>6.600000</td>\n",
              "    </tr>\n",
              "    <tr>\n",
              "      <th>50%</th>\n",
              "      <td>865.50000</td>\n",
              "      <td>65.100000</td>\n",
              "      <td>216.000000</td>\n",
              "      <td>155.000000</td>\n",
              "      <td>6.800000</td>\n",
              "    </tr>\n",
              "    <tr>\n",
              "      <th>75%</th>\n",
              "      <td>1298.25000</td>\n",
              "      <td>82.225000</td>\n",
              "      <td>252.000000</td>\n",
              "      <td>181.000000</td>\n",
              "      <td>6.900000</td>\n",
              "    </tr>\n",
              "    <tr>\n",
              "      <th>max</th>\n",
              "      <td>1731.00000</td>\n",
              "      <td>325.000000</td>\n",
              "      <td>625.000000</td>\n",
              "      <td>400.000000</td>\n",
              "      <td>7.800000</td>\n",
              "    </tr>\n",
              "  </tbody>\n",
              "</table>\n",
              "</div>"
            ],
            "text/plain": [
              "       sample_index            P            K           Mg           pH\n",
              "count    1732.00000  1732.000000  1732.000000  1732.000000  1732.000000\n",
              "mean      865.50000    70.302656   227.988510   159.281236     6.782719\n",
              "std       500.12965    29.504784    61.891989    39.871829     0.260298\n",
              "min         0.00000    20.300000    21.100000    26.800000     5.600000\n",
              "25%       432.75000    51.175000   189.000000   134.000000     6.600000\n",
              "50%       865.50000    65.100000   216.000000   155.000000     6.800000\n",
              "75%      1298.25000    82.225000   252.000000   181.000000     6.900000\n",
              "max      1731.00000   325.000000   625.000000   400.000000     7.800000"
            ]
          },
          "execution_count": 14,
          "metadata": {},
          "output_type": "execute_result"
        }
      ],
      "source": [
        "train.describe()"
      ]
    },
    {
      "cell_type": "code",
      "execution_count": null,
      "id": "1273eabd",
      "metadata": {
        "id": "1273eabd",
        "outputId": "48f181f3-86b1-4c9b-84a3-5d07c8798495"
      },
      "outputs": [
        {
          "data": {
            "text/html": [
              "<div>\n",
              "<style scoped>\n",
              "    .dataframe tbody tr th:only-of-type {\n",
              "        vertical-align: middle;\n",
              "    }\n",
              "\n",
              "    .dataframe tbody tr th {\n",
              "        vertical-align: top;\n",
              "    }\n",
              "\n",
              "    .dataframe thead th {\n",
              "        text-align: right;\n",
              "    }\n",
              "</style>\n",
              "<table border=\"1\" class=\"dataframe\">\n",
              "  <thead>\n",
              "    <tr style=\"text-align: right;\">\n",
              "      <th></th>\n",
              "      <th>sample_index</th>\n",
              "      <th>filepath</th>\n",
              "      <th>P</th>\n",
              "      <th>K</th>\n",
              "      <th>Mg</th>\n",
              "      <th>pH</th>\n",
              "      <th>hsi</th>\n",
              "      <th>mask</th>\n",
              "    </tr>\n",
              "  </thead>\n",
              "  <tbody>\n",
              "    <tr>\n",
              "      <th>0</th>\n",
              "      <td>0</td>\n",
              "      <td>train_data/0.npz</td>\n",
              "      <td>45.1</td>\n",
              "      <td>188.0</td>\n",
              "      <td>179.0</td>\n",
              "      <td>7.2</td>\n",
              "      <td>[[[487, 471, 460, 489, 493, 464, 466, 459, 447...</td>\n",
              "      <td>[[[True, True, True, True, True, True, True, T...</td>\n",
              "    </tr>\n",
              "    <tr>\n",
              "      <th>1</th>\n",
              "      <td>1</td>\n",
              "      <td>train_data/1.npz</td>\n",
              "      <td>44.8</td>\n",
              "      <td>205.0</td>\n",
              "      <td>188.0</td>\n",
              "      <td>7.0</td>\n",
              "      <td>[[[573, 539, 634, 588, 655, 519, 498, 508, 531...</td>\n",
              "      <td>[[[True, True, True, True, True, False, False,...</td>\n",
              "    </tr>\n",
              "  </tbody>\n",
              "</table>\n",
              "</div>"
            ],
            "text/plain": [
              "   sample_index          filepath     P      K     Mg   pH  \\\n",
              "0             0  train_data/0.npz  45.1  188.0  179.0  7.2   \n",
              "1             1  train_data/1.npz  44.8  205.0  188.0  7.0   \n",
              "\n",
              "                                                 hsi  \\\n",
              "0  [[[487, 471, 460, 489, 493, 464, 466, 459, 447...   \n",
              "1  [[[573, 539, 634, 588, 655, 519, 498, 508, 531...   \n",
              "\n",
              "                                                mask  \n",
              "0  [[[True, True, True, True, True, True, True, T...  \n",
              "1  [[[True, True, True, True, True, False, False,...  "
            ]
          },
          "execution_count": 15,
          "metadata": {},
          "output_type": "execute_result"
        }
      ],
      "source": [
        "train.head(2)"
      ]
    },
    {
      "cell_type": "code",
      "execution_count": null,
      "id": "35362c44",
      "metadata": {
        "id": "35362c44",
        "outputId": "5dbcefe9-9615-4072-84fb-d4b00faa0591"
      },
      "outputs": [
        {
          "data": {
            "text/plain": [
              "count     1732.000000\n",
              "mean      2859.618360\n",
              "std       1481.411535\n",
              "min       1077.000000\n",
              "25%       1734.000000\n",
              "50%       2737.500000\n",
              "75%       3665.250000\n",
              "max      17488.000000\n",
              "Name: hsi, dtype: float64"
            ]
          },
          "execution_count": 16,
          "metadata": {},
          "output_type": "execute_result"
        }
      ],
      "source": [
        "train['hsi'].map(np.max).describe()"
      ]
    },
    {
      "cell_type": "code",
      "execution_count": null,
      "id": "068fe4f7",
      "metadata": {
        "id": "068fe4f7",
        "outputId": "650638da-53f4-4b10-ae7a-413f36302582"
      },
      "outputs": [
        {
          "data": {
            "text/plain": [
              "count     1154.000000\n",
              "mean      2922.344887\n",
              "std       1606.327735\n",
              "min       1064.000000\n",
              "25%       1741.000000\n",
              "50%       2816.500000\n",
              "75%       3714.750000\n",
              "max      16886.000000\n",
              "Name: hsi, dtype: float64"
            ]
          },
          "execution_count": 17,
          "metadata": {},
          "output_type": "execute_result"
        }
      ],
      "source": [
        "test['hsi'].map(np.max).describe()"
      ]
    },
    {
      "cell_type": "markdown",
      "source": [
        "### NOTE: **Divide by baseline solution (sample mean)**"
      ],
      "metadata": {
        "id": "UIjwNA8K5CZF"
      },
      "id": "UIjwNA8K5CZF"
    },
    {
      "cell_type": "code",
      "execution_count": null,
      "id": "b319746a",
      "metadata": {
        "id": "b319746a"
      },
      "outputs": [],
      "source": [
        "label_columns = ['P', 'K', 'Mg', 'pH']\n",
        "\n",
        "train[label_columns] = train[label_columns] / train[label_columns].mean(axis=0)"
      ]
    },
    {
      "cell_type": "code",
      "execution_count": null,
      "id": "6cc5a1fe",
      "metadata": {
        "id": "6cc5a1fe"
      },
      "outputs": [],
      "source": [
        "class HsiDataset(Dataset):\n",
        "    def __init__(self, df, transforms=None, repeats=1):\n",
        "        self.repeats = repeats\n",
        "        self.ids = df['sample_index'].tolist()\n",
        "        self.file_paths = df['filepath'].tolist()\n",
        "        self.hsi = df['hsi'].tolist()\n",
        "        self.masks = df['mask'].tolist()\n",
        "\n",
        "        self.transforms = transforms\n",
        "        if 'P' in df.columns:\n",
        "            self.labels = df[['P', 'K', 'Mg', 'pH']].values\n",
        "\n",
        "    def __len__(self):\n",
        "        return len(self.ids) * self.repeats\n",
        "\n",
        "    def __getitem__(self, idx):\n",
        "        idx = idx % len(self.ids)\n",
        "        _id = self.ids[idx]\n",
        "        img = (self.hsi[idx]/10000).astype('float32')\n",
        "        mask = 1 - self.masks[idx].astype('int')\n",
        "        if self.transforms is not None:\n",
        "            aug_img = self.transforms(image=img.transpose(1,2,0), mask=mask.transpose(1,2,0))\n",
        "            img = aug_img['image'].transpose(2,0,1)\n",
        "            mask = aug_img['mask'].transpose(2,0,1)\n",
        "\n",
        "        sample = dict(\n",
        "            image_id=_id,\n",
        "            image=(img * mask).astype('float32'),\n",
        "            mask=mask,\n",
        "        )\n",
        "\n",
        "        if hasattr(self, 'labels'):\n",
        "            sample['label'] = self.labels[idx].astype('float32')\n",
        "        return sample"
      ]
    },
    {
      "cell_type": "code",
      "execution_count": null,
      "id": "c41a255b",
      "metadata": {
        "id": "c41a255b",
        "outputId": "fd107a7f-490d-4b86-cfe5-9ca3aa3fb05d"
      },
      "outputs": [
        {
          "name": "stdout",
          "output_type": "stream",
          "text": [
            "CPU times: user 872 µs, sys: 0 ns, total: 872 µs\n",
            "Wall time: 860 µs\n"
          ]
        }
      ],
      "source": [
        "%%time\n",
        "dst = HsiDataset(train)"
      ]
    },
    {
      "cell_type": "code",
      "execution_count": null,
      "id": "e3c7b72b",
      "metadata": {
        "id": "e3c7b72b"
      },
      "outputs": [],
      "source": [
        "sample = dst[123]"
      ]
    },
    {
      "cell_type": "code",
      "execution_count": null,
      "id": "5b9761b8",
      "metadata": {
        "id": "5b9761b8",
        "outputId": "a3d4f5a8-ff37-49d6-c93a-0753adf29952"
      },
      "outputs": [
        {
          "data": {
            "text/plain": [
              "(dtype('float32'), dtype('int64'))"
            ]
          },
          "execution_count": 23,
          "metadata": {},
          "output_type": "execute_result"
        }
      ],
      "source": [
        "sample['image'].dtype, sample['mask'].dtype"
      ]
    },
    {
      "cell_type": "code",
      "execution_count": null,
      "id": "7d03b905",
      "metadata": {
        "id": "7d03b905",
        "outputId": "de7d22da-24fd-43e4-ebe2-cfac65eb1262"
      },
      "outputs": [
        {
          "data": {
            "text/plain": [
              "((150, 11, 11), (150, 11, 11))"
            ]
          },
          "execution_count": 24,
          "metadata": {},
          "output_type": "execute_result"
        }
      ],
      "source": [
        "sample['image'].shape, sample['mask'].shape"
      ]
    },
    {
      "cell_type": "code",
      "execution_count": null,
      "id": "efb55b8d",
      "metadata": {
        "id": "efb55b8d"
      },
      "outputs": [],
      "source": [
        "def get_transforms(train=False, image_size=11, base_size=60, debug=False):\n",
        "    augmentations = []\n",
        "    augmentations.append(\n",
        "        A.Resize(height=image_size, width=image_size)\n",
        "    )\n",
        "    if train:\n",
        "        augmentations.extend([\n",
        "            A.HorizontalFlip(p=0.5),\n",
        "            A.VerticalFlip(p=0.5),\n",
        "            A.Rotate(p=0.5, ),\n",
        "            A.Transpose(p=0.5),\n",
        "            A.MultiplicativeNoise(multiplier=(0.99, 1.01), per_channel=True, elementwise=True),\n",
        "        ])\n",
        "\n",
        "    transforms = A.Compose(augmentations)\n",
        "    return transforms"
      ]
    },
    {
      "cell_type": "code",
      "execution_count": null,
      "id": "a2f765c7",
      "metadata": {
        "id": "a2f765c7"
      },
      "outputs": [],
      "source": [
        "dst = HsiDataset(train, transforms=get_transforms())"
      ]
    },
    {
      "cell_type": "code",
      "execution_count": null,
      "id": "e86bd0f7",
      "metadata": {
        "id": "e86bd0f7"
      },
      "outputs": [],
      "source": [
        "sample = dst[123]"
      ]
    },
    {
      "cell_type": "code",
      "execution_count": null,
      "id": "964eceb8",
      "metadata": {
        "id": "964eceb8"
      },
      "outputs": [],
      "source": [
        "from functools import wraps\n",
        "import gc\n",
        "\n",
        "def flush_and_gc(f):\n",
        "    @wraps(f)\n",
        "    def g(*args, **kwargs):\n",
        "        torch.cuda.empty_cache()\n",
        "        gc.collect()\n",
        "        return f(*args, **kwargs)\n",
        "    return g"
      ]
    },
    {
      "cell_type": "code",
      "execution_count": null,
      "id": "07f7f1c7",
      "metadata": {
        "id": "07f7f1c7"
      },
      "outputs": [],
      "source": [
        "class HsiModel(pl.LightningModule):\n",
        "    def __init__(self, args):\n",
        "        super().__init__()\n",
        "        self.save_hyperparameters()\n",
        "\n",
        "        self.net = timm.create_model(\n",
        "            model_name=args.model,\n",
        "            in_chans=150,\n",
        "            num_classes=4,\n",
        "            pretrained=True,\n",
        "#             dropout=args.dropout,\n",
        "            global_pool='avgmax',\n",
        "        )\n",
        "        self.softplus = nn.Softplus()\n",
        "        self.criterion = nn.MSELoss()\n",
        "\n",
        "        self._metric = MeanSquaredError(squared=False)\n",
        "\n",
        "    def forward(self, image):\n",
        "        return self.softplus(self.net(image))\n",
        "\n",
        "    def training_step(self, batch, batch_idx=0):\n",
        "        image = batch['image']\n",
        "        label = batch['label']\n",
        "\n",
        "        pred = self(image)\n",
        "\n",
        "        loss = self.criterion(pred, label)\n",
        "        rmse = self._metric(pred, label)\n",
        "        metrics = {'rmse': rmse}\n",
        "\n",
        "        self.log('lr', self.optimizers().param_groups[0]['lr'], prog_bar=True)\n",
        "        self.log('loss', loss, batch_size=image.shape[0], prog_bar=True, on_step=True)\n",
        "        self.log_dict(metrics, batch_size=image.shape[0], prog_bar=True, on_step=False, on_epoch=True)\n",
        "\n",
        "        return loss\n",
        "\n",
        "    def validation_step(self, batch, batch_idx=0):\n",
        "        image = batch['image']\n",
        "        label = batch['label']\n",
        "\n",
        "        pred = self(image)\n",
        "        loss = self.criterion(pred, label)\n",
        "        rmse = self._metric(pred, label)\n",
        "        metrics = {'val_loss': loss, 'val_rmse': rmse}\n",
        "\n",
        "        self.log_dict(metrics, batch_size=image.shape[0], prog_bar=True, on_epoch=True)\n",
        "\n",
        "    def predict_step(self, batch, batch_idx=0):\n",
        "        image = batch['image']\n",
        "        sample_id = batch['image_id']\n",
        "\n",
        "        pred = self(image)\n",
        "        return {'image_id': sample_id, 'pred': pred}\n",
        "\n",
        "    def configure_optimizers(self):\n",
        "        optimizer = optim.Adam(self.parameters(), lr=self.hparams.args.lr, weight_decay=self.hparams.args.weight_decay)\n",
        "        scheduler_name = self.hparams.args.scheduler\n",
        "        if scheduler_name == 'onecycle':\n",
        "            scheduler = optim.lr_scheduler.OneCycleLR(optimizer, pct_start=0.1, total_steps=self.trainer.estimated_stepping_batches, max_lr=self.hparams.args.lr)\n",
        "            interval = 'step'\n",
        "        elif scheduler_name == 'plateau':\n",
        "            scheduler = optim.lr_scheduler.ReduceLROnPlateau(optimizer, mode='min', factor=0.5, patience=self.hparams.args.patience//2)\n",
        "            interval = 'epoch'\n",
        "\n",
        "        scheduler = {\n",
        "            'scheduler': scheduler,\n",
        "            'interval': interval,\n",
        "            'monitor': 'val_rmse'\n",
        "        }\n",
        "        return {\"optimizer\": optimizer, \"lr_scheduler\": scheduler}"
      ]
    },
    {
      "cell_type": "code",
      "execution_count": null,
      "id": "286d623a",
      "metadata": {
        "id": "286d623a"
      },
      "outputs": [],
      "source": [
        "train['fold'] = -1\n",
        "skf = KFold(n_splits=5, shuffle=True, random_state=args.seed)\n",
        "for fold, (t_idx, v_idx) in enumerate(skf.split(range(len(train)))):\n",
        "    train.loc[v_idx, 'fold'] = fold"
      ]
    },
    {
      "cell_type": "code",
      "execution_count": null,
      "id": "ce36be4b",
      "metadata": {
        "id": "ce36be4b",
        "outputId": "afba9f00-5000-411a-810a-8ab1ca295cc8"
      },
      "outputs": [
        {
          "data": {
            "text/plain": [
              "fold\n",
              "0    347\n",
              "1    347\n",
              "2    346\n",
              "3    346\n",
              "4    346\n",
              "Name: count, dtype: int64"
            ]
          },
          "execution_count": 32,
          "metadata": {},
          "output_type": "execute_result"
        }
      ],
      "source": [
        "train.fold.value_counts()"
      ]
    },
    {
      "cell_type": "code",
      "execution_count": null,
      "id": "8af0126a",
      "metadata": {
        "id": "8af0126a"
      },
      "outputs": [],
      "source": [
        "import gc\n",
        "import inspect\n",
        "import shutil\n",
        "import torch\n",
        "import pytorch_lightning as pl\n",
        "from pytorch_lightning.callbacks.progress.tqdm_progress import TQDMProgressBar\n",
        "\n",
        "\n",
        "def remove_dir(path):\n",
        "    try:\n",
        "        shutil.rmtree(path)\n",
        "    except:\n",
        "        pass\n",
        "\n",
        "\n",
        "def free_memory(to_delete: list):\n",
        "    calling_namespace = inspect.currentframe().f_back\n",
        "\n",
        "    for _var in to_delete:\n",
        "        calling_namespace.f_locals.pop(_var, None)\n",
        "        gc.collect()\n",
        "        torch.cuda.empty_cache()\n",
        "\n",
        "\n",
        "def get_callbacks(args, fold=None):\n",
        "    start_name = \"\"\n",
        "    if fold is not None:\n",
        "        start_name = f\"fold{fold}-\"\n",
        "\n",
        "    checkpoint_callback = pl.callbacks.ModelCheckpoint(\n",
        "          filename=start_name + \"{epoch}-{val_loss:0.4f}-{val_rmse:0.4f}\",\n",
        "          monitor='val_rmse',\n",
        "          verbose=False,\n",
        "          save_last=False,\n",
        "          save_top_k=1,\n",
        "          mode='min',\n",
        "          save_weights_only=True\n",
        "    )\n",
        "\n",
        "    early_stop_callback = pl.callbacks.EarlyStopping(\n",
        "        monitor=\"val_rmse\",\n",
        "        patience=args.patience,\n",
        "        verbose=True,\n",
        "        mode='min',\n",
        "        strict=True,\n",
        "        check_finite=True,\n",
        "        check_on_train_epoch_end=False\n",
        "    )\n",
        "    prog_rate = TQDMProgressBar(refresh_rate=10) #20)\n",
        "\n",
        "    return [\n",
        "        checkpoint_callback,\n",
        "        early_stop_callback,\n",
        "        prog_rate,\n",
        "    ]"
      ]
    },
    {
      "cell_type": "code",
      "execution_count": null,
      "id": "904d083b",
      "metadata": {
        "id": "904d083b"
      },
      "outputs": [],
      "source": [
        "try:\n",
        "    torch.set_float32_matmul_precision('high')\n",
        "except:\n",
        "    pass"
      ]
    },
    {
      "cell_type": "code",
      "execution_count": null,
      "id": "ce6713a8",
      "metadata": {
        "id": "ce6713a8",
        "outputId": "81b3516b-c29d-4bf9-b2bb-d224652f9969"
      },
      "outputs": [
        {
          "name": "stderr",
          "output_type": "stream",
          "text": [
            "Global seed set to 42\n"
          ]
        }
      ],
      "source": [
        "# initial reproducibility\n",
        "pl.seed_everything(args.seed, workers=True)\n",
        "os.environ[\"CUBLAS_WORKSPACE_CONFIG\"]=\":4096:2\""
      ]
    },
    {
      "cell_type": "code",
      "execution_count": null,
      "id": "5d168108",
      "metadata": {
        "scrolled": false,
        "colab": {
          "referenced_widgets": [
            "a2a205e6bf3e4dcbb1024b83948a8985",
            "",
            "174b3515688e488bbb02ccde361e0479",
            "5a25fecc0a4943a9b933d430de486f25",
            "2e100420dd8e40b8ab48379062575bab",
            "6fdee21bf9ef4f57bca3efb5644a1c58"
          ]
        },
        "id": "5d168108",
        "outputId": "6bd08505-77a4-4c72-e6b8-00d0a4425b8b"
      },
      "outputs": [
        {
          "name": "stderr",
          "output_type": "stream",
          "text": [
            "Global seed set to 42\n"
          ]
        },
        {
          "name": "stdout",
          "output_type": "stream",
          "text": [
            "\n",
            "\n",
            "Namespace(seed=42, model='resnet10t', lr=0.001, weight_decay=0.0, log_dir='logs', num_workers=8, epochs=100, batch_size=32, repeats=1, accumulate_grad_batches=1, image_size=77, base_size=128, gpus='0', patience=10, precision='32', scheduler='onecycle')\n",
            "resnet10t_1003-1304\n",
            "\n",
            "\n",
            "\n",
            "#####Starting fold 0#####\n",
            "\n"
          ]
        },
        {
          "name": "stderr",
          "output_type": "stream",
          "text": [
            "GPU available: True (cuda), used: True\n",
            "TPU available: False, using: 0 TPU cores\n",
            "IPU available: False, using: 0 IPUs\n",
            "HPU available: False, using: 0 HPUs\n",
            "LOCAL_RANK: 0 - CUDA_VISIBLE_DEVICES: [0]\n",
            "Loading `train_dataloader` to estimate number of stepping batches.\n",
            "/home/ai4ex2022/anaconda3/envs/ai4ex/lib/python3.9/site-packages/pytorch_lightning/loops/fit_loop.py:280: PossibleUserWarning: The number of training batches (43) is smaller than the logging interval Trainer(log_every_n_steps=50). Set a lower value for log_every_n_steps if you want to see logs for the training epoch.\n",
            "  rank_zero_warn(\n",
            "\n",
            "  | Name      | Type             | Params\n",
            "-----------------------------------------------\n",
            "0 | net       | ResNet           | 5.0 M \n",
            "1 | softplus  | Softplus         | 0     \n",
            "2 | criterion | MSELoss          | 0     \n",
            "3 | _metric   | MeanSquaredError | 0     \n",
            "-----------------------------------------------\n",
            "5.0 M     Trainable params\n",
            "0         Non-trainable params\n",
            "5.0 M     Total params\n",
            "19.825    Total estimated model params size (MB)\n"
          ]
        },
        {
          "data": {
            "application/vnd.jupyter.widget-view+json": {
              "model_id": "a2a205e6bf3e4dcbb1024b83948a8985",
              "version_major": 2,
              "version_minor": 0
            },
            "text/plain": [
              "Training: 0it [00:00, ?it/s]"
            ]
          },
          "metadata": {},
          "output_type": "display_data"
        },
        {
          "data": {
            "application/vnd.jupyter.widget-view+json": {
              "model_id": "",
              "version_major": 2,
              "version_minor": 0
            },
            "text/plain": [
              "Validation: 0it [00:00, ?it/s]"
            ]
          },
          "metadata": {},
          "output_type": "display_data"
        },
        {
          "name": "stderr",
          "output_type": "stream",
          "text": [
            "Metric val_rmse improved. New best score: 0.600\n"
          ]
        },
        {
          "data": {
            "application/vnd.jupyter.widget-view+json": {
              "model_id": "",
              "version_major": 2,
              "version_minor": 0
            },
            "text/plain": [
              "Validation: 0it [00:00, ?it/s]"
            ]
          },
          "metadata": {},
          "output_type": "display_data"
        },
        {
          "name": "stderr",
          "output_type": "stream",
          "text": [
            "Metric val_rmse improved by 0.137 >= min_delta = 0.0. New best score: 0.463\n"
          ]
        },
        {
          "data": {
            "application/vnd.jupyter.widget-view+json": {
              "model_id": "",
              "version_major": 2,
              "version_minor": 0
            },
            "text/plain": [
              "Validation: 0it [00:00, ?it/s]"
            ]
          },
          "metadata": {},
          "output_type": "display_data"
        },
        {
          "name": "stderr",
          "output_type": "stream",
          "text": [
            "Metric val_rmse improved by 0.121 >= min_delta = 0.0. New best score: 0.342\n"
          ]
        },
        {
          "data": {
            "application/vnd.jupyter.widget-view+json": {
              "model_id": "",
              "version_major": 2,
              "version_minor": 0
            },
            "text/plain": [
              "Validation: 0it [00:00, ?it/s]"
            ]
          },
          "metadata": {},
          "output_type": "display_data"
        },
        {
          "name": "stderr",
          "output_type": "stream",
          "text": [
            "Metric val_rmse improved by 0.035 >= min_delta = 0.0. New best score: 0.307\n"
          ]
        },
        {
          "data": {
            "application/vnd.jupyter.widget-view+json": {
              "model_id": "",
              "version_major": 2,
              "version_minor": 0
            },
            "text/plain": [
              "Validation: 0it [00:00, ?it/s]"
            ]
          },
          "metadata": {},
          "output_type": "display_data"
        },
        {
          "name": "stderr",
          "output_type": "stream",
          "text": [
            "Metric val_rmse improved by 0.030 >= min_delta = 0.0. New best score: 0.276\n"
          ]
        },
        {
          "data": {
            "application/vnd.jupyter.widget-view+json": {
              "model_id": "",
              "version_major": 2,
              "version_minor": 0
            },
            "text/plain": [
              "Validation: 0it [00:00, ?it/s]"
            ]
          },
          "metadata": {},
          "output_type": "display_data"
        },
        {
          "data": {
            "application/vnd.jupyter.widget-view+json": {
              "model_id": "",
              "version_major": 2,
              "version_minor": 0
            },
            "text/plain": [
              "Validation: 0it [00:00, ?it/s]"
            ]
          },
          "metadata": {},
          "output_type": "display_data"
        },
        {
          "name": "stderr",
          "output_type": "stream",
          "text": [
            "Metric val_rmse improved by 0.011 >= min_delta = 0.0. New best score: 0.265\n"
          ]
        },
        {
          "data": {
            "application/vnd.jupyter.widget-view+json": {
              "model_id": "",
              "version_major": 2,
              "version_minor": 0
            },
            "text/plain": [
              "Validation: 0it [00:00, ?it/s]"
            ]
          },
          "metadata": {},
          "output_type": "display_data"
        },
        {
          "name": "stderr",
          "output_type": "stream",
          "text": [
            "Metric val_rmse improved by 0.018 >= min_delta = 0.0. New best score: 0.247\n"
          ]
        },
        {
          "data": {
            "application/vnd.jupyter.widget-view+json": {
              "model_id": "",
              "version_major": 2,
              "version_minor": 0
            },
            "text/plain": [
              "Validation: 0it [00:00, ?it/s]"
            ]
          },
          "metadata": {},
          "output_type": "display_data"
        },
        {
          "data": {
            "application/vnd.jupyter.widget-view+json": {
              "model_id": "",
              "version_major": 2,
              "version_minor": 0
            },
            "text/plain": [
              "Validation: 0it [00:00, ?it/s]"
            ]
          },
          "metadata": {},
          "output_type": "display_data"
        },
        {
          "data": {
            "application/vnd.jupyter.widget-view+json": {
              "model_id": "",
              "version_major": 2,
              "version_minor": 0
            },
            "text/plain": [
              "Validation: 0it [00:00, ?it/s]"
            ]
          },
          "metadata": {},
          "output_type": "display_data"
        },
        {
          "data": {
            "application/vnd.jupyter.widget-view+json": {
              "model_id": "",
              "version_major": 2,
              "version_minor": 0
            },
            "text/plain": [
              "Validation: 0it [00:00, ?it/s]"
            ]
          },
          "metadata": {},
          "output_type": "display_data"
        },
        {
          "data": {
            "application/vnd.jupyter.widget-view+json": {
              "model_id": "",
              "version_major": 2,
              "version_minor": 0
            },
            "text/plain": [
              "Validation: 0it [00:00, ?it/s]"
            ]
          },
          "metadata": {},
          "output_type": "display_data"
        },
        {
          "data": {
            "application/vnd.jupyter.widget-view+json": {
              "model_id": "",
              "version_major": 2,
              "version_minor": 0
            },
            "text/plain": [
              "Validation: 0it [00:00, ?it/s]"
            ]
          },
          "metadata": {},
          "output_type": "display_data"
        },
        {
          "name": "stderr",
          "output_type": "stream",
          "text": [
            "Metric val_rmse improved by 0.000 >= min_delta = 0.0. New best score: 0.247\n"
          ]
        },
        {
          "data": {
            "application/vnd.jupyter.widget-view+json": {
              "model_id": "",
              "version_major": 2,
              "version_minor": 0
            },
            "text/plain": [
              "Validation: 0it [00:00, ?it/s]"
            ]
          },
          "metadata": {},
          "output_type": "display_data"
        },
        {
          "data": {
            "application/vnd.jupyter.widget-view+json": {
              "model_id": "",
              "version_major": 2,
              "version_minor": 0
            },
            "text/plain": [
              "Validation: 0it [00:00, ?it/s]"
            ]
          },
          "metadata": {},
          "output_type": "display_data"
        },
        {
          "name": "stderr",
          "output_type": "stream",
          "text": [
            "Metric val_rmse improved by 0.003 >= min_delta = 0.0. New best score: 0.244\n"
          ]
        },
        {
          "data": {
            "application/vnd.jupyter.widget-view+json": {
              "model_id": "",
              "version_major": 2,
              "version_minor": 0
            },
            "text/plain": [
              "Validation: 0it [00:00, ?it/s]"
            ]
          },
          "metadata": {},
          "output_type": "display_data"
        },
        {
          "data": {
            "application/vnd.jupyter.widget-view+json": {
              "model_id": "",
              "version_major": 2,
              "version_minor": 0
            },
            "text/plain": [
              "Validation: 0it [00:00, ?it/s]"
            ]
          },
          "metadata": {},
          "output_type": "display_data"
        },
        {
          "data": {
            "application/vnd.jupyter.widget-view+json": {
              "model_id": "",
              "version_major": 2,
              "version_minor": 0
            },
            "text/plain": [
              "Validation: 0it [00:00, ?it/s]"
            ]
          },
          "metadata": {},
          "output_type": "display_data"
        },
        {
          "data": {
            "application/vnd.jupyter.widget-view+json": {
              "model_id": "",
              "version_major": 2,
              "version_minor": 0
            },
            "text/plain": [
              "Validation: 0it [00:00, ?it/s]"
            ]
          },
          "metadata": {},
          "output_type": "display_data"
        },
        {
          "data": {
            "application/vnd.jupyter.widget-view+json": {
              "model_id": "",
              "version_major": 2,
              "version_minor": 0
            },
            "text/plain": [
              "Validation: 0it [00:00, ?it/s]"
            ]
          },
          "metadata": {},
          "output_type": "display_data"
        },
        {
          "data": {
            "application/vnd.jupyter.widget-view+json": {
              "model_id": "",
              "version_major": 2,
              "version_minor": 0
            },
            "text/plain": [
              "Validation: 0it [00:00, ?it/s]"
            ]
          },
          "metadata": {},
          "output_type": "display_data"
        },
        {
          "name": "stderr",
          "output_type": "stream",
          "text": [
            "Metric val_rmse improved by 0.001 >= min_delta = 0.0. New best score: 0.243\n"
          ]
        },
        {
          "data": {
            "application/vnd.jupyter.widget-view+json": {
              "model_id": "",
              "version_major": 2,
              "version_minor": 0
            },
            "text/plain": [
              "Validation: 0it [00:00, ?it/s]"
            ]
          },
          "metadata": {},
          "output_type": "display_data"
        },
        {
          "data": {
            "application/vnd.jupyter.widget-view+json": {
              "model_id": "",
              "version_major": 2,
              "version_minor": 0
            },
            "text/plain": [
              "Validation: 0it [00:00, ?it/s]"
            ]
          },
          "metadata": {},
          "output_type": "display_data"
        },
        {
          "name": "stderr",
          "output_type": "stream",
          "text": [
            "Metric val_rmse improved by 0.001 >= min_delta = 0.0. New best score: 0.242\n"
          ]
        },
        {
          "data": {
            "application/vnd.jupyter.widget-view+json": {
              "model_id": "",
              "version_major": 2,
              "version_minor": 0
            },
            "text/plain": [
              "Validation: 0it [00:00, ?it/s]"
            ]
          },
          "metadata": {},
          "output_type": "display_data"
        },
        {
          "data": {
            "application/vnd.jupyter.widget-view+json": {
              "model_id": "",
              "version_major": 2,
              "version_minor": 0
            },
            "text/plain": [
              "Validation: 0it [00:00, ?it/s]"
            ]
          },
          "metadata": {},
          "output_type": "display_data"
        },
        {
          "data": {
            "application/vnd.jupyter.widget-view+json": {
              "model_id": "",
              "version_major": 2,
              "version_minor": 0
            },
            "text/plain": [
              "Validation: 0it [00:00, ?it/s]"
            ]
          },
          "metadata": {},
          "output_type": "display_data"
        },
        {
          "data": {
            "application/vnd.jupyter.widget-view+json": {
              "model_id": "",
              "version_major": 2,
              "version_minor": 0
            },
            "text/plain": [
              "Validation: 0it [00:00, ?it/s]"
            ]
          },
          "metadata": {},
          "output_type": "display_data"
        },
        {
          "data": {
            "application/vnd.jupyter.widget-view+json": {
              "model_id": "",
              "version_major": 2,
              "version_minor": 0
            },
            "text/plain": [
              "Validation: 0it [00:00, ?it/s]"
            ]
          },
          "metadata": {},
          "output_type": "display_data"
        },
        {
          "data": {
            "application/vnd.jupyter.widget-view+json": {
              "model_id": "",
              "version_major": 2,
              "version_minor": 0
            },
            "text/plain": [
              "Validation: 0it [00:00, ?it/s]"
            ]
          },
          "metadata": {},
          "output_type": "display_data"
        },
        {
          "data": {
            "application/vnd.jupyter.widget-view+json": {
              "model_id": "",
              "version_major": 2,
              "version_minor": 0
            },
            "text/plain": [
              "Validation: 0it [00:00, ?it/s]"
            ]
          },
          "metadata": {},
          "output_type": "display_data"
        },
        {
          "data": {
            "application/vnd.jupyter.widget-view+json": {
              "model_id": "",
              "version_major": 2,
              "version_minor": 0
            },
            "text/plain": [
              "Validation: 0it [00:00, ?it/s]"
            ]
          },
          "metadata": {},
          "output_type": "display_data"
        },
        {
          "data": {
            "application/vnd.jupyter.widget-view+json": {
              "model_id": "",
              "version_major": 2,
              "version_minor": 0
            },
            "text/plain": [
              "Validation: 0it [00:00, ?it/s]"
            ]
          },
          "metadata": {},
          "output_type": "display_data"
        },
        {
          "data": {
            "application/vnd.jupyter.widget-view+json": {
              "model_id": "",
              "version_major": 2,
              "version_minor": 0
            },
            "text/plain": [
              "Validation: 0it [00:00, ?it/s]"
            ]
          },
          "metadata": {},
          "output_type": "display_data"
        },
        {
          "name": "stderr",
          "output_type": "stream",
          "text": [
            "Monitored metric val_rmse did not improve in the last 10 records. Best score: 0.242. Signaling Trainer to stop.\n",
            "Global seed set to 42\n"
          ]
        },
        {
          "name": "stdout",
          "output_type": "stream",
          "text": [
            "\n",
            "#####Starting fold 1#####\n",
            "\n"
          ]
        },
        {
          "name": "stderr",
          "output_type": "stream",
          "text": [
            "GPU available: True (cuda), used: True\n",
            "TPU available: False, using: 0 TPU cores\n",
            "IPU available: False, using: 0 IPUs\n",
            "HPU available: False, using: 0 HPUs\n",
            "/home/ai4ex2022/anaconda3/envs/ai4ex/lib/python3.9/site-packages/pytorch_lightning/callbacks/model_checkpoint.py:612: UserWarning: Checkpoint directory logs/resnet10t/resnet10t_1003-1304/checkpoints exists and is not empty.\n",
            "  rank_zero_warn(f\"Checkpoint directory {dirpath} exists and is not empty.\")\n",
            "LOCAL_RANK: 0 - CUDA_VISIBLE_DEVICES: [0]\n",
            "Loading `train_dataloader` to estimate number of stepping batches.\n",
            "/home/ai4ex2022/anaconda3/envs/ai4ex/lib/python3.9/site-packages/pytorch_lightning/loops/fit_loop.py:280: PossibleUserWarning: The number of training batches (43) is smaller than the logging interval Trainer(log_every_n_steps=50). Set a lower value for log_every_n_steps if you want to see logs for the training epoch.\n",
            "  rank_zero_warn(\n",
            "\n",
            "  | Name      | Type             | Params\n",
            "-----------------------------------------------\n",
            "0 | net       | ResNet           | 5.0 M \n",
            "1 | softplus  | Softplus         | 0     \n",
            "2 | criterion | MSELoss          | 0     \n",
            "3 | _metric   | MeanSquaredError | 0     \n",
            "-----------------------------------------------\n",
            "5.0 M     Trainable params\n",
            "0         Non-trainable params\n",
            "5.0 M     Total params\n",
            "19.825    Total estimated model params size (MB)\n"
          ]
        },
        {
          "data": {
            "application/vnd.jupyter.widget-view+json": {
              "model_id": "174b3515688e488bbb02ccde361e0479",
              "version_major": 2,
              "version_minor": 0
            },
            "text/plain": [
              "Training: 0it [00:00, ?it/s]"
            ]
          },
          "metadata": {},
          "output_type": "display_data"
        },
        {
          "data": {
            "application/vnd.jupyter.widget-view+json": {
              "model_id": "",
              "version_major": 2,
              "version_minor": 0
            },
            "text/plain": [
              "Validation: 0it [00:00, ?it/s]"
            ]
          },
          "metadata": {},
          "output_type": "display_data"
        },
        {
          "name": "stderr",
          "output_type": "stream",
          "text": [
            "Metric val_rmse improved. New best score: 0.534\n"
          ]
        },
        {
          "data": {
            "application/vnd.jupyter.widget-view+json": {
              "model_id": "",
              "version_major": 2,
              "version_minor": 0
            },
            "text/plain": [
              "Validation: 0it [00:00, ?it/s]"
            ]
          },
          "metadata": {},
          "output_type": "display_data"
        },
        {
          "name": "stderr",
          "output_type": "stream",
          "text": [
            "Metric val_rmse improved by 0.055 >= min_delta = 0.0. New best score: 0.479\n"
          ]
        },
        {
          "data": {
            "application/vnd.jupyter.widget-view+json": {
              "model_id": "",
              "version_major": 2,
              "version_minor": 0
            },
            "text/plain": [
              "Validation: 0it [00:00, ?it/s]"
            ]
          },
          "metadata": {},
          "output_type": "display_data"
        },
        {
          "name": "stderr",
          "output_type": "stream",
          "text": [
            "Metric val_rmse improved by 0.093 >= min_delta = 0.0. New best score: 0.386\n"
          ]
        },
        {
          "data": {
            "application/vnd.jupyter.widget-view+json": {
              "model_id": "",
              "version_major": 2,
              "version_minor": 0
            },
            "text/plain": [
              "Validation: 0it [00:00, ?it/s]"
            ]
          },
          "metadata": {},
          "output_type": "display_data"
        },
        {
          "name": "stderr",
          "output_type": "stream",
          "text": [
            "Metric val_rmse improved by 0.057 >= min_delta = 0.0. New best score: 0.329\n"
          ]
        },
        {
          "data": {
            "application/vnd.jupyter.widget-view+json": {
              "model_id": "",
              "version_major": 2,
              "version_minor": 0
            },
            "text/plain": [
              "Validation: 0it [00:00, ?it/s]"
            ]
          },
          "metadata": {},
          "output_type": "display_data"
        },
        {
          "name": "stderr",
          "output_type": "stream",
          "text": [
            "Metric val_rmse improved by 0.031 >= min_delta = 0.0. New best score: 0.298\n"
          ]
        },
        {
          "data": {
            "application/vnd.jupyter.widget-view+json": {
              "model_id": "",
              "version_major": 2,
              "version_minor": 0
            },
            "text/plain": [
              "Validation: 0it [00:00, ?it/s]"
            ]
          },
          "metadata": {},
          "output_type": "display_data"
        },
        {
          "name": "stderr",
          "output_type": "stream",
          "text": [
            "Metric val_rmse improved by 0.001 >= min_delta = 0.0. New best score: 0.298\n"
          ]
        },
        {
          "data": {
            "application/vnd.jupyter.widget-view+json": {
              "model_id": "",
              "version_major": 2,
              "version_minor": 0
            },
            "text/plain": [
              "Validation: 0it [00:00, ?it/s]"
            ]
          },
          "metadata": {},
          "output_type": "display_data"
        },
        {
          "name": "stderr",
          "output_type": "stream",
          "text": [
            "Metric val_rmse improved by 0.016 >= min_delta = 0.0. New best score: 0.282\n"
          ]
        },
        {
          "data": {
            "application/vnd.jupyter.widget-view+json": {
              "model_id": "",
              "version_major": 2,
              "version_minor": 0
            },
            "text/plain": [
              "Validation: 0it [00:00, ?it/s]"
            ]
          },
          "metadata": {},
          "output_type": "display_data"
        },
        {
          "data": {
            "application/vnd.jupyter.widget-view+json": {
              "model_id": "",
              "version_major": 2,
              "version_minor": 0
            },
            "text/plain": [
              "Validation: 0it [00:00, ?it/s]"
            ]
          },
          "metadata": {},
          "output_type": "display_data"
        },
        {
          "name": "stderr",
          "output_type": "stream",
          "text": [
            "Metric val_rmse improved by 0.001 >= min_delta = 0.0. New best score: 0.280\n"
          ]
        },
        {
          "data": {
            "application/vnd.jupyter.widget-view+json": {
              "model_id": "",
              "version_major": 2,
              "version_minor": 0
            },
            "text/plain": [
              "Validation: 0it [00:00, ?it/s]"
            ]
          },
          "metadata": {},
          "output_type": "display_data"
        },
        {
          "data": {
            "application/vnd.jupyter.widget-view+json": {
              "model_id": "",
              "version_major": 2,
              "version_minor": 0
            },
            "text/plain": [
              "Validation: 0it [00:00, ?it/s]"
            ]
          },
          "metadata": {},
          "output_type": "display_data"
        },
        {
          "data": {
            "application/vnd.jupyter.widget-view+json": {
              "model_id": "",
              "version_major": 2,
              "version_minor": 0
            },
            "text/plain": [
              "Validation: 0it [00:00, ?it/s]"
            ]
          },
          "metadata": {},
          "output_type": "display_data"
        },
        {
          "name": "stderr",
          "output_type": "stream",
          "text": [
            "Metric val_rmse improved by 0.008 >= min_delta = 0.0. New best score: 0.273\n"
          ]
        },
        {
          "data": {
            "application/vnd.jupyter.widget-view+json": {
              "model_id": "",
              "version_major": 2,
              "version_minor": 0
            },
            "text/plain": [
              "Validation: 0it [00:00, ?it/s]"
            ]
          },
          "metadata": {},
          "output_type": "display_data"
        },
        {
          "name": "stderr",
          "output_type": "stream",
          "text": [
            "Metric val_rmse improved by 0.001 >= min_delta = 0.0. New best score: 0.271\n"
          ]
        },
        {
          "data": {
            "application/vnd.jupyter.widget-view+json": {
              "model_id": "",
              "version_major": 2,
              "version_minor": 0
            },
            "text/plain": [
              "Validation: 0it [00:00, ?it/s]"
            ]
          },
          "metadata": {},
          "output_type": "display_data"
        },
        {
          "data": {
            "application/vnd.jupyter.widget-view+json": {
              "model_id": "",
              "version_major": 2,
              "version_minor": 0
            },
            "text/plain": [
              "Validation: 0it [00:00, ?it/s]"
            ]
          },
          "metadata": {},
          "output_type": "display_data"
        },
        {
          "name": "stderr",
          "output_type": "stream",
          "text": [
            "Metric val_rmse improved by 0.001 >= min_delta = 0.0. New best score: 0.271\n"
          ]
        },
        {
          "data": {
            "application/vnd.jupyter.widget-view+json": {
              "model_id": "",
              "version_major": 2,
              "version_minor": 0
            },
            "text/plain": [
              "Validation: 0it [00:00, ?it/s]"
            ]
          },
          "metadata": {},
          "output_type": "display_data"
        },
        {
          "data": {
            "application/vnd.jupyter.widget-view+json": {
              "model_id": "",
              "version_major": 2,
              "version_minor": 0
            },
            "text/plain": [
              "Validation: 0it [00:00, ?it/s]"
            ]
          },
          "metadata": {},
          "output_type": "display_data"
        },
        {
          "data": {
            "application/vnd.jupyter.widget-view+json": {
              "model_id": "",
              "version_major": 2,
              "version_minor": 0
            },
            "text/plain": [
              "Validation: 0it [00:00, ?it/s]"
            ]
          },
          "metadata": {},
          "output_type": "display_data"
        },
        {
          "name": "stderr",
          "output_type": "stream",
          "text": [
            "Metric val_rmse improved by 0.002 >= min_delta = 0.0. New best score: 0.269\n"
          ]
        },
        {
          "data": {
            "application/vnd.jupyter.widget-view+json": {
              "model_id": "",
              "version_major": 2,
              "version_minor": 0
            },
            "text/plain": [
              "Validation: 0it [00:00, ?it/s]"
            ]
          },
          "metadata": {},
          "output_type": "display_data"
        },
        {
          "data": {
            "application/vnd.jupyter.widget-view+json": {
              "model_id": "",
              "version_major": 2,
              "version_minor": 0
            },
            "text/plain": [
              "Validation: 0it [00:00, ?it/s]"
            ]
          },
          "metadata": {},
          "output_type": "display_data"
        },
        {
          "data": {
            "application/vnd.jupyter.widget-view+json": {
              "model_id": "",
              "version_major": 2,
              "version_minor": 0
            },
            "text/plain": [
              "Validation: 0it [00:00, ?it/s]"
            ]
          },
          "metadata": {},
          "output_type": "display_data"
        },
        {
          "data": {
            "application/vnd.jupyter.widget-view+json": {
              "model_id": "",
              "version_major": 2,
              "version_minor": 0
            },
            "text/plain": [
              "Validation: 0it [00:00, ?it/s]"
            ]
          },
          "metadata": {},
          "output_type": "display_data"
        },
        {
          "data": {
            "application/vnd.jupyter.widget-view+json": {
              "model_id": "",
              "version_major": 2,
              "version_minor": 0
            },
            "text/plain": [
              "Validation: 0it [00:00, ?it/s]"
            ]
          },
          "metadata": {},
          "output_type": "display_data"
        },
        {
          "data": {
            "application/vnd.jupyter.widget-view+json": {
              "model_id": "",
              "version_major": 2,
              "version_minor": 0
            },
            "text/plain": [
              "Validation: 0it [00:00, ?it/s]"
            ]
          },
          "metadata": {},
          "output_type": "display_data"
        },
        {
          "data": {
            "application/vnd.jupyter.widget-view+json": {
              "model_id": "",
              "version_major": 2,
              "version_minor": 0
            },
            "text/plain": [
              "Validation: 0it [00:00, ?it/s]"
            ]
          },
          "metadata": {},
          "output_type": "display_data"
        },
        {
          "data": {
            "application/vnd.jupyter.widget-view+json": {
              "model_id": "",
              "version_major": 2,
              "version_minor": 0
            },
            "text/plain": [
              "Validation: 0it [00:00, ?it/s]"
            ]
          },
          "metadata": {},
          "output_type": "display_data"
        },
        {
          "name": "stderr",
          "output_type": "stream",
          "text": [
            "Metric val_rmse improved by 0.000 >= min_delta = 0.0. New best score: 0.268\n"
          ]
        },
        {
          "data": {
            "application/vnd.jupyter.widget-view+json": {
              "model_id": "",
              "version_major": 2,
              "version_minor": 0
            },
            "text/plain": [
              "Validation: 0it [00:00, ?it/s]"
            ]
          },
          "metadata": {},
          "output_type": "display_data"
        },
        {
          "data": {
            "application/vnd.jupyter.widget-view+json": {
              "model_id": "",
              "version_major": 2,
              "version_minor": 0
            },
            "text/plain": [
              "Validation: 0it [00:00, ?it/s]"
            ]
          },
          "metadata": {},
          "output_type": "display_data"
        },
        {
          "data": {
            "application/vnd.jupyter.widget-view+json": {
              "model_id": "",
              "version_major": 2,
              "version_minor": 0
            },
            "text/plain": [
              "Validation: 0it [00:00, ?it/s]"
            ]
          },
          "metadata": {},
          "output_type": "display_data"
        },
        {
          "data": {
            "application/vnd.jupyter.widget-view+json": {
              "model_id": "",
              "version_major": 2,
              "version_minor": 0
            },
            "text/plain": [
              "Validation: 0it [00:00, ?it/s]"
            ]
          },
          "metadata": {},
          "output_type": "display_data"
        },
        {
          "data": {
            "application/vnd.jupyter.widget-view+json": {
              "model_id": "",
              "version_major": 2,
              "version_minor": 0
            },
            "text/plain": [
              "Validation: 0it [00:00, ?it/s]"
            ]
          },
          "metadata": {},
          "output_type": "display_data"
        },
        {
          "name": "stderr",
          "output_type": "stream",
          "text": [
            "Metric val_rmse improved by 0.002 >= min_delta = 0.0. New best score: 0.266\n"
          ]
        },
        {
          "data": {
            "application/vnd.jupyter.widget-view+json": {
              "model_id": "",
              "version_major": 2,
              "version_minor": 0
            },
            "text/plain": [
              "Validation: 0it [00:00, ?it/s]"
            ]
          },
          "metadata": {},
          "output_type": "display_data"
        },
        {
          "data": {
            "application/vnd.jupyter.widget-view+json": {
              "model_id": "",
              "version_major": 2,
              "version_minor": 0
            },
            "text/plain": [
              "Validation: 0it [00:00, ?it/s]"
            ]
          },
          "metadata": {},
          "output_type": "display_data"
        },
        {
          "data": {
            "application/vnd.jupyter.widget-view+json": {
              "model_id": "",
              "version_major": 2,
              "version_minor": 0
            },
            "text/plain": [
              "Validation: 0it [00:00, ?it/s]"
            ]
          },
          "metadata": {},
          "output_type": "display_data"
        },
        {
          "data": {
            "application/vnd.jupyter.widget-view+json": {
              "model_id": "",
              "version_major": 2,
              "version_minor": 0
            },
            "text/plain": [
              "Validation: 0it [00:00, ?it/s]"
            ]
          },
          "metadata": {},
          "output_type": "display_data"
        },
        {
          "data": {
            "application/vnd.jupyter.widget-view+json": {
              "model_id": "",
              "version_major": 2,
              "version_minor": 0
            },
            "text/plain": [
              "Validation: 0it [00:00, ?it/s]"
            ]
          },
          "metadata": {},
          "output_type": "display_data"
        },
        {
          "data": {
            "application/vnd.jupyter.widget-view+json": {
              "model_id": "",
              "version_major": 2,
              "version_minor": 0
            },
            "text/plain": [
              "Validation: 0it [00:00, ?it/s]"
            ]
          },
          "metadata": {},
          "output_type": "display_data"
        },
        {
          "data": {
            "application/vnd.jupyter.widget-view+json": {
              "model_id": "",
              "version_major": 2,
              "version_minor": 0
            },
            "text/plain": [
              "Validation: 0it [00:00, ?it/s]"
            ]
          },
          "metadata": {},
          "output_type": "display_data"
        },
        {
          "data": {
            "application/vnd.jupyter.widget-view+json": {
              "model_id": "",
              "version_major": 2,
              "version_minor": 0
            },
            "text/plain": [
              "Validation: 0it [00:00, ?it/s]"
            ]
          },
          "metadata": {},
          "output_type": "display_data"
        },
        {
          "data": {
            "application/vnd.jupyter.widget-view+json": {
              "model_id": "",
              "version_major": 2,
              "version_minor": 0
            },
            "text/plain": [
              "Validation: 0it [00:00, ?it/s]"
            ]
          },
          "metadata": {},
          "output_type": "display_data"
        },
        {
          "data": {
            "application/vnd.jupyter.widget-view+json": {
              "model_id": "",
              "version_major": 2,
              "version_minor": 0
            },
            "text/plain": [
              "Validation: 0it [00:00, ?it/s]"
            ]
          },
          "metadata": {},
          "output_type": "display_data"
        },
        {
          "name": "stderr",
          "output_type": "stream",
          "text": [
            "Monitored metric val_rmse did not improve in the last 10 records. Best score: 0.266. Signaling Trainer to stop.\n",
            "Global seed set to 42\n"
          ]
        },
        {
          "name": "stdout",
          "output_type": "stream",
          "text": [
            "\n",
            "#####Starting fold 2#####\n",
            "\n"
          ]
        },
        {
          "name": "stderr",
          "output_type": "stream",
          "text": [
            "GPU available: True (cuda), used: True\n",
            "TPU available: False, using: 0 TPU cores\n",
            "IPU available: False, using: 0 IPUs\n",
            "HPU available: False, using: 0 HPUs\n",
            "/home/ai4ex2022/anaconda3/envs/ai4ex/lib/python3.9/site-packages/pytorch_lightning/callbacks/model_checkpoint.py:612: UserWarning: Checkpoint directory logs/resnet10t/resnet10t_1003-1304/checkpoints exists and is not empty.\n",
            "  rank_zero_warn(f\"Checkpoint directory {dirpath} exists and is not empty.\")\n",
            "LOCAL_RANK: 0 - CUDA_VISIBLE_DEVICES: [0]\n",
            "Loading `train_dataloader` to estimate number of stepping batches.\n",
            "/home/ai4ex2022/anaconda3/envs/ai4ex/lib/python3.9/site-packages/pytorch_lightning/loops/fit_loop.py:280: PossibleUserWarning: The number of training batches (43) is smaller than the logging interval Trainer(log_every_n_steps=50). Set a lower value for log_every_n_steps if you want to see logs for the training epoch.\n",
            "  rank_zero_warn(\n",
            "\n",
            "  | Name      | Type             | Params\n",
            "-----------------------------------------------\n",
            "0 | net       | ResNet           | 5.0 M \n",
            "1 | softplus  | Softplus         | 0     \n",
            "2 | criterion | MSELoss          | 0     \n",
            "3 | _metric   | MeanSquaredError | 0     \n",
            "-----------------------------------------------\n",
            "5.0 M     Trainable params\n",
            "0         Non-trainable params\n",
            "5.0 M     Total params\n",
            "19.825    Total estimated model params size (MB)\n"
          ]
        },
        {
          "data": {
            "application/vnd.jupyter.widget-view+json": {
              "model_id": "5a25fecc0a4943a9b933d430de486f25",
              "version_major": 2,
              "version_minor": 0
            },
            "text/plain": [
              "Training: 0it [00:00, ?it/s]"
            ]
          },
          "metadata": {},
          "output_type": "display_data"
        },
        {
          "data": {
            "application/vnd.jupyter.widget-view+json": {
              "model_id": "",
              "version_major": 2,
              "version_minor": 0
            },
            "text/plain": [
              "Validation: 0it [00:00, ?it/s]"
            ]
          },
          "metadata": {},
          "output_type": "display_data"
        },
        {
          "name": "stderr",
          "output_type": "stream",
          "text": [
            "Metric val_rmse improved. New best score: 0.544\n"
          ]
        },
        {
          "data": {
            "application/vnd.jupyter.widget-view+json": {
              "model_id": "",
              "version_major": 2,
              "version_minor": 0
            },
            "text/plain": [
              "Validation: 0it [00:00, ?it/s]"
            ]
          },
          "metadata": {},
          "output_type": "display_data"
        },
        {
          "name": "stderr",
          "output_type": "stream",
          "text": [
            "Metric val_rmse improved by 0.038 >= min_delta = 0.0. New best score: 0.506\n"
          ]
        },
        {
          "data": {
            "application/vnd.jupyter.widget-view+json": {
              "model_id": "",
              "version_major": 2,
              "version_minor": 0
            },
            "text/plain": [
              "Validation: 0it [00:00, ?it/s]"
            ]
          },
          "metadata": {},
          "output_type": "display_data"
        },
        {
          "name": "stderr",
          "output_type": "stream",
          "text": [
            "Metric val_rmse improved by 0.163 >= min_delta = 0.0. New best score: 0.343\n"
          ]
        },
        {
          "data": {
            "application/vnd.jupyter.widget-view+json": {
              "model_id": "",
              "version_major": 2,
              "version_minor": 0
            },
            "text/plain": [
              "Validation: 0it [00:00, ?it/s]"
            ]
          },
          "metadata": {},
          "output_type": "display_data"
        },
        {
          "name": "stderr",
          "output_type": "stream",
          "text": [
            "Metric val_rmse improved by 0.044 >= min_delta = 0.0. New best score: 0.299\n"
          ]
        },
        {
          "data": {
            "application/vnd.jupyter.widget-view+json": {
              "model_id": "",
              "version_major": 2,
              "version_minor": 0
            },
            "text/plain": [
              "Validation: 0it [00:00, ?it/s]"
            ]
          },
          "metadata": {},
          "output_type": "display_data"
        },
        {
          "name": "stderr",
          "output_type": "stream",
          "text": [
            "Metric val_rmse improved by 0.013 >= min_delta = 0.0. New best score: 0.286\n"
          ]
        },
        {
          "data": {
            "application/vnd.jupyter.widget-view+json": {
              "model_id": "",
              "version_major": 2,
              "version_minor": 0
            },
            "text/plain": [
              "Validation: 0it [00:00, ?it/s]"
            ]
          },
          "metadata": {},
          "output_type": "display_data"
        },
        {
          "name": "stderr",
          "output_type": "stream",
          "text": [
            "Metric val_rmse improved by 0.002 >= min_delta = 0.0. New best score: 0.284\n"
          ]
        },
        {
          "data": {
            "application/vnd.jupyter.widget-view+json": {
              "model_id": "",
              "version_major": 2,
              "version_minor": 0
            },
            "text/plain": [
              "Validation: 0it [00:00, ?it/s]"
            ]
          },
          "metadata": {},
          "output_type": "display_data"
        },
        {
          "name": "stderr",
          "output_type": "stream",
          "text": [
            "Metric val_rmse improved by 0.005 >= min_delta = 0.0. New best score: 0.278\n"
          ]
        },
        {
          "data": {
            "application/vnd.jupyter.widget-view+json": {
              "model_id": "",
              "version_major": 2,
              "version_minor": 0
            },
            "text/plain": [
              "Validation: 0it [00:00, ?it/s]"
            ]
          },
          "metadata": {},
          "output_type": "display_data"
        },
        {
          "name": "stderr",
          "output_type": "stream",
          "text": [
            "Metric val_rmse improved by 0.009 >= min_delta = 0.0. New best score: 0.269\n"
          ]
        },
        {
          "data": {
            "application/vnd.jupyter.widget-view+json": {
              "model_id": "",
              "version_major": 2,
              "version_minor": 0
            },
            "text/plain": [
              "Validation: 0it [00:00, ?it/s]"
            ]
          },
          "metadata": {},
          "output_type": "display_data"
        },
        {
          "data": {
            "application/vnd.jupyter.widget-view+json": {
              "model_id": "",
              "version_major": 2,
              "version_minor": 0
            },
            "text/plain": [
              "Validation: 0it [00:00, ?it/s]"
            ]
          },
          "metadata": {},
          "output_type": "display_data"
        },
        {
          "name": "stderr",
          "output_type": "stream",
          "text": [
            "Metric val_rmse improved by 0.005 >= min_delta = 0.0. New best score: 0.264\n"
          ]
        },
        {
          "data": {
            "application/vnd.jupyter.widget-view+json": {
              "model_id": "",
              "version_major": 2,
              "version_minor": 0
            },
            "text/plain": [
              "Validation: 0it [00:00, ?it/s]"
            ]
          },
          "metadata": {},
          "output_type": "display_data"
        },
        {
          "name": "stderr",
          "output_type": "stream",
          "text": [
            "Metric val_rmse improved by 0.001 >= min_delta = 0.0. New best score: 0.263\n"
          ]
        },
        {
          "data": {
            "application/vnd.jupyter.widget-view+json": {
              "model_id": "",
              "version_major": 2,
              "version_minor": 0
            },
            "text/plain": [
              "Validation: 0it [00:00, ?it/s]"
            ]
          },
          "metadata": {},
          "output_type": "display_data"
        },
        {
          "data": {
            "application/vnd.jupyter.widget-view+json": {
              "model_id": "",
              "version_major": 2,
              "version_minor": 0
            },
            "text/plain": [
              "Validation: 0it [00:00, ?it/s]"
            ]
          },
          "metadata": {},
          "output_type": "display_data"
        },
        {
          "name": "stderr",
          "output_type": "stream",
          "text": [
            "Metric val_rmse improved by 0.002 >= min_delta = 0.0. New best score: 0.261\n"
          ]
        },
        {
          "data": {
            "application/vnd.jupyter.widget-view+json": {
              "model_id": "",
              "version_major": 2,
              "version_minor": 0
            },
            "text/plain": [
              "Validation: 0it [00:00, ?it/s]"
            ]
          },
          "metadata": {},
          "output_type": "display_data"
        },
        {
          "data": {
            "application/vnd.jupyter.widget-view+json": {
              "model_id": "",
              "version_major": 2,
              "version_minor": 0
            },
            "text/plain": [
              "Validation: 0it [00:00, ?it/s]"
            ]
          },
          "metadata": {},
          "output_type": "display_data"
        },
        {
          "data": {
            "application/vnd.jupyter.widget-view+json": {
              "model_id": "",
              "version_major": 2,
              "version_minor": 0
            },
            "text/plain": [
              "Validation: 0it [00:00, ?it/s]"
            ]
          },
          "metadata": {},
          "output_type": "display_data"
        },
        {
          "data": {
            "application/vnd.jupyter.widget-view+json": {
              "model_id": "",
              "version_major": 2,
              "version_minor": 0
            },
            "text/plain": [
              "Validation: 0it [00:00, ?it/s]"
            ]
          },
          "metadata": {},
          "output_type": "display_data"
        },
        {
          "data": {
            "application/vnd.jupyter.widget-view+json": {
              "model_id": "",
              "version_major": 2,
              "version_minor": 0
            },
            "text/plain": [
              "Validation: 0it [00:00, ?it/s]"
            ]
          },
          "metadata": {},
          "output_type": "display_data"
        },
        {
          "name": "stderr",
          "output_type": "stream",
          "text": [
            "Metric val_rmse improved by 0.001 >= min_delta = 0.0. New best score: 0.260\n"
          ]
        },
        {
          "data": {
            "application/vnd.jupyter.widget-view+json": {
              "model_id": "",
              "version_major": 2,
              "version_minor": 0
            },
            "text/plain": [
              "Validation: 0it [00:00, ?it/s]"
            ]
          },
          "metadata": {},
          "output_type": "display_data"
        },
        {
          "data": {
            "application/vnd.jupyter.widget-view+json": {
              "model_id": "",
              "version_major": 2,
              "version_minor": 0
            },
            "text/plain": [
              "Validation: 0it [00:00, ?it/s]"
            ]
          },
          "metadata": {},
          "output_type": "display_data"
        },
        {
          "data": {
            "application/vnd.jupyter.widget-view+json": {
              "model_id": "",
              "version_major": 2,
              "version_minor": 0
            },
            "text/plain": [
              "Validation: 0it [00:00, ?it/s]"
            ]
          },
          "metadata": {},
          "output_type": "display_data"
        },
        {
          "data": {
            "application/vnd.jupyter.widget-view+json": {
              "model_id": "",
              "version_major": 2,
              "version_minor": 0
            },
            "text/plain": [
              "Validation: 0it [00:00, ?it/s]"
            ]
          },
          "metadata": {},
          "output_type": "display_data"
        },
        {
          "data": {
            "application/vnd.jupyter.widget-view+json": {
              "model_id": "",
              "version_major": 2,
              "version_minor": 0
            },
            "text/plain": [
              "Validation: 0it [00:00, ?it/s]"
            ]
          },
          "metadata": {},
          "output_type": "display_data"
        },
        {
          "name": "stderr",
          "output_type": "stream",
          "text": [
            "Metric val_rmse improved by 0.000 >= min_delta = 0.0. New best score: 0.260\n"
          ]
        },
        {
          "data": {
            "application/vnd.jupyter.widget-view+json": {
              "model_id": "",
              "version_major": 2,
              "version_minor": 0
            },
            "text/plain": [
              "Validation: 0it [00:00, ?it/s]"
            ]
          },
          "metadata": {},
          "output_type": "display_data"
        },
        {
          "data": {
            "application/vnd.jupyter.widget-view+json": {
              "model_id": "",
              "version_major": 2,
              "version_minor": 0
            },
            "text/plain": [
              "Validation: 0it [00:00, ?it/s]"
            ]
          },
          "metadata": {},
          "output_type": "display_data"
        },
        {
          "data": {
            "application/vnd.jupyter.widget-view+json": {
              "model_id": "",
              "version_major": 2,
              "version_minor": 0
            },
            "text/plain": [
              "Validation: 0it [00:00, ?it/s]"
            ]
          },
          "metadata": {},
          "output_type": "display_data"
        },
        {
          "name": "stderr",
          "output_type": "stream",
          "text": [
            "Metric val_rmse improved by 0.004 >= min_delta = 0.0. New best score: 0.256\n"
          ]
        },
        {
          "data": {
            "application/vnd.jupyter.widget-view+json": {
              "model_id": "",
              "version_major": 2,
              "version_minor": 0
            },
            "text/plain": [
              "Validation: 0it [00:00, ?it/s]"
            ]
          },
          "metadata": {},
          "output_type": "display_data"
        },
        {
          "name": "stderr",
          "output_type": "stream",
          "text": [
            "Metric val_rmse improved by 0.000 >= min_delta = 0.0. New best score: 0.256\n"
          ]
        },
        {
          "data": {
            "application/vnd.jupyter.widget-view+json": {
              "model_id": "",
              "version_major": 2,
              "version_minor": 0
            },
            "text/plain": [
              "Validation: 0it [00:00, ?it/s]"
            ]
          },
          "metadata": {},
          "output_type": "display_data"
        },
        {
          "name": "stderr",
          "output_type": "stream",
          "text": [
            "Metric val_rmse improved by 0.001 >= min_delta = 0.0. New best score: 0.254\n"
          ]
        },
        {
          "data": {
            "application/vnd.jupyter.widget-view+json": {
              "model_id": "",
              "version_major": 2,
              "version_minor": 0
            },
            "text/plain": [
              "Validation: 0it [00:00, ?it/s]"
            ]
          },
          "metadata": {},
          "output_type": "display_data"
        },
        {
          "data": {
            "application/vnd.jupyter.widget-view+json": {
              "model_id": "",
              "version_major": 2,
              "version_minor": 0
            },
            "text/plain": [
              "Validation: 0it [00:00, ?it/s]"
            ]
          },
          "metadata": {},
          "output_type": "display_data"
        },
        {
          "data": {
            "application/vnd.jupyter.widget-view+json": {
              "model_id": "",
              "version_major": 2,
              "version_minor": 0
            },
            "text/plain": [
              "Validation: 0it [00:00, ?it/s]"
            ]
          },
          "metadata": {},
          "output_type": "display_data"
        },
        {
          "data": {
            "application/vnd.jupyter.widget-view+json": {
              "model_id": "",
              "version_major": 2,
              "version_minor": 0
            },
            "text/plain": [
              "Validation: 0it [00:00, ?it/s]"
            ]
          },
          "metadata": {},
          "output_type": "display_data"
        },
        {
          "data": {
            "application/vnd.jupyter.widget-view+json": {
              "model_id": "",
              "version_major": 2,
              "version_minor": 0
            },
            "text/plain": [
              "Validation: 0it [00:00, ?it/s]"
            ]
          },
          "metadata": {},
          "output_type": "display_data"
        },
        {
          "data": {
            "application/vnd.jupyter.widget-view+json": {
              "model_id": "",
              "version_major": 2,
              "version_minor": 0
            },
            "text/plain": [
              "Validation: 0it [00:00, ?it/s]"
            ]
          },
          "metadata": {},
          "output_type": "display_data"
        },
        {
          "data": {
            "application/vnd.jupyter.widget-view+json": {
              "model_id": "",
              "version_major": 2,
              "version_minor": 0
            },
            "text/plain": [
              "Validation: 0it [00:00, ?it/s]"
            ]
          },
          "metadata": {},
          "output_type": "display_data"
        },
        {
          "data": {
            "application/vnd.jupyter.widget-view+json": {
              "model_id": "",
              "version_major": 2,
              "version_minor": 0
            },
            "text/plain": [
              "Validation: 0it [00:00, ?it/s]"
            ]
          },
          "metadata": {},
          "output_type": "display_data"
        },
        {
          "data": {
            "application/vnd.jupyter.widget-view+json": {
              "model_id": "",
              "version_major": 2,
              "version_minor": 0
            },
            "text/plain": [
              "Validation: 0it [00:00, ?it/s]"
            ]
          },
          "metadata": {},
          "output_type": "display_data"
        },
        {
          "data": {
            "application/vnd.jupyter.widget-view+json": {
              "model_id": "",
              "version_major": 2,
              "version_minor": 0
            },
            "text/plain": [
              "Validation: 0it [00:00, ?it/s]"
            ]
          },
          "metadata": {},
          "output_type": "display_data"
        },
        {
          "name": "stderr",
          "output_type": "stream",
          "text": [
            "Monitored metric val_rmse did not improve in the last 10 records. Best score: 0.254. Signaling Trainer to stop.\n",
            "Global seed set to 42\n"
          ]
        },
        {
          "name": "stdout",
          "output_type": "stream",
          "text": [
            "\n",
            "#####Starting fold 3#####\n",
            "\n"
          ]
        },
        {
          "name": "stderr",
          "output_type": "stream",
          "text": [
            "GPU available: True (cuda), used: True\n",
            "TPU available: False, using: 0 TPU cores\n",
            "IPU available: False, using: 0 IPUs\n",
            "HPU available: False, using: 0 HPUs\n",
            "/home/ai4ex2022/anaconda3/envs/ai4ex/lib/python3.9/site-packages/pytorch_lightning/callbacks/model_checkpoint.py:612: UserWarning: Checkpoint directory logs/resnet10t/resnet10t_1003-1304/checkpoints exists and is not empty.\n",
            "  rank_zero_warn(f\"Checkpoint directory {dirpath} exists and is not empty.\")\n",
            "LOCAL_RANK: 0 - CUDA_VISIBLE_DEVICES: [0]\n",
            "Loading `train_dataloader` to estimate number of stepping batches.\n",
            "/home/ai4ex2022/anaconda3/envs/ai4ex/lib/python3.9/site-packages/pytorch_lightning/loops/fit_loop.py:280: PossibleUserWarning: The number of training batches (43) is smaller than the logging interval Trainer(log_every_n_steps=50). Set a lower value for log_every_n_steps if you want to see logs for the training epoch.\n",
            "  rank_zero_warn(\n",
            "\n",
            "  | Name      | Type             | Params\n",
            "-----------------------------------------------\n",
            "0 | net       | ResNet           | 5.0 M \n",
            "1 | softplus  | Softplus         | 0     \n",
            "2 | criterion | MSELoss          | 0     \n",
            "3 | _metric   | MeanSquaredError | 0     \n",
            "-----------------------------------------------\n",
            "5.0 M     Trainable params\n",
            "0         Non-trainable params\n",
            "5.0 M     Total params\n",
            "19.825    Total estimated model params size (MB)\n"
          ]
        },
        {
          "data": {
            "application/vnd.jupyter.widget-view+json": {
              "model_id": "2e100420dd8e40b8ab48379062575bab",
              "version_major": 2,
              "version_minor": 0
            },
            "text/plain": [
              "Training: 0it [00:00, ?it/s]"
            ]
          },
          "metadata": {},
          "output_type": "display_data"
        },
        {
          "data": {
            "application/vnd.jupyter.widget-view+json": {
              "model_id": "",
              "version_major": 2,
              "version_minor": 0
            },
            "text/plain": [
              "Validation: 0it [00:00, ?it/s]"
            ]
          },
          "metadata": {},
          "output_type": "display_data"
        },
        {
          "name": "stderr",
          "output_type": "stream",
          "text": [
            "Metric val_rmse improved. New best score: 0.572\n"
          ]
        },
        {
          "data": {
            "application/vnd.jupyter.widget-view+json": {
              "model_id": "",
              "version_major": 2,
              "version_minor": 0
            },
            "text/plain": [
              "Validation: 0it [00:00, ?it/s]"
            ]
          },
          "metadata": {},
          "output_type": "display_data"
        },
        {
          "name": "stderr",
          "output_type": "stream",
          "text": [
            "Metric val_rmse improved by 0.023 >= min_delta = 0.0. New best score: 0.549\n"
          ]
        },
        {
          "data": {
            "application/vnd.jupyter.widget-view+json": {
              "model_id": "",
              "version_major": 2,
              "version_minor": 0
            },
            "text/plain": [
              "Validation: 0it [00:00, ?it/s]"
            ]
          },
          "metadata": {},
          "output_type": "display_data"
        },
        {
          "name": "stderr",
          "output_type": "stream",
          "text": [
            "Metric val_rmse improved by 0.122 >= min_delta = 0.0. New best score: 0.427\n"
          ]
        },
        {
          "data": {
            "application/vnd.jupyter.widget-view+json": {
              "model_id": "",
              "version_major": 2,
              "version_minor": 0
            },
            "text/plain": [
              "Validation: 0it [00:00, ?it/s]"
            ]
          },
          "metadata": {},
          "output_type": "display_data"
        },
        {
          "name": "stderr",
          "output_type": "stream",
          "text": [
            "Metric val_rmse improved by 0.073 >= min_delta = 0.0. New best score: 0.354\n"
          ]
        },
        {
          "data": {
            "application/vnd.jupyter.widget-view+json": {
              "model_id": "",
              "version_major": 2,
              "version_minor": 0
            },
            "text/plain": [
              "Validation: 0it [00:00, ?it/s]"
            ]
          },
          "metadata": {},
          "output_type": "display_data"
        },
        {
          "name": "stderr",
          "output_type": "stream",
          "text": [
            "Metric val_rmse improved by 0.027 >= min_delta = 0.0. New best score: 0.327\n"
          ]
        },
        {
          "data": {
            "application/vnd.jupyter.widget-view+json": {
              "model_id": "",
              "version_major": 2,
              "version_minor": 0
            },
            "text/plain": [
              "Validation: 0it [00:00, ?it/s]"
            ]
          },
          "metadata": {},
          "output_type": "display_data"
        },
        {
          "name": "stderr",
          "output_type": "stream",
          "text": [
            "Metric val_rmse improved by 0.021 >= min_delta = 0.0. New best score: 0.306\n"
          ]
        },
        {
          "data": {
            "application/vnd.jupyter.widget-view+json": {
              "model_id": "",
              "version_major": 2,
              "version_minor": 0
            },
            "text/plain": [
              "Validation: 0it [00:00, ?it/s]"
            ]
          },
          "metadata": {},
          "output_type": "display_data"
        },
        {
          "name": "stderr",
          "output_type": "stream",
          "text": [
            "Metric val_rmse improved by 0.010 >= min_delta = 0.0. New best score: 0.296\n"
          ]
        },
        {
          "data": {
            "application/vnd.jupyter.widget-view+json": {
              "model_id": "",
              "version_major": 2,
              "version_minor": 0
            },
            "text/plain": [
              "Validation: 0it [00:00, ?it/s]"
            ]
          },
          "metadata": {},
          "output_type": "display_data"
        },
        {
          "data": {
            "application/vnd.jupyter.widget-view+json": {
              "model_id": "",
              "version_major": 2,
              "version_minor": 0
            },
            "text/plain": [
              "Validation: 0it [00:00, ?it/s]"
            ]
          },
          "metadata": {},
          "output_type": "display_data"
        },
        {
          "name": "stderr",
          "output_type": "stream",
          "text": [
            "Metric val_rmse improved by 0.006 >= min_delta = 0.0. New best score: 0.290\n"
          ]
        },
        {
          "data": {
            "application/vnd.jupyter.widget-view+json": {
              "model_id": "",
              "version_major": 2,
              "version_minor": 0
            },
            "text/plain": [
              "Validation: 0it [00:00, ?it/s]"
            ]
          },
          "metadata": {},
          "output_type": "display_data"
        },
        {
          "data": {
            "application/vnd.jupyter.widget-view+json": {
              "model_id": "",
              "version_major": 2,
              "version_minor": 0
            },
            "text/plain": [
              "Validation: 0it [00:00, ?it/s]"
            ]
          },
          "metadata": {},
          "output_type": "display_data"
        },
        {
          "data": {
            "application/vnd.jupyter.widget-view+json": {
              "model_id": "",
              "version_major": 2,
              "version_minor": 0
            },
            "text/plain": [
              "Validation: 0it [00:00, ?it/s]"
            ]
          },
          "metadata": {},
          "output_type": "display_data"
        },
        {
          "data": {
            "application/vnd.jupyter.widget-view+json": {
              "model_id": "",
              "version_major": 2,
              "version_minor": 0
            },
            "text/plain": [
              "Validation: 0it [00:00, ?it/s]"
            ]
          },
          "metadata": {},
          "output_type": "display_data"
        },
        {
          "name": "stderr",
          "output_type": "stream",
          "text": [
            "Metric val_rmse improved by 0.003 >= min_delta = 0.0. New best score: 0.287\n"
          ]
        },
        {
          "data": {
            "application/vnd.jupyter.widget-view+json": {
              "model_id": "",
              "version_major": 2,
              "version_minor": 0
            },
            "text/plain": [
              "Validation: 0it [00:00, ?it/s]"
            ]
          },
          "metadata": {},
          "output_type": "display_data"
        },
        {
          "data": {
            "application/vnd.jupyter.widget-view+json": {
              "model_id": "",
              "version_major": 2,
              "version_minor": 0
            },
            "text/plain": [
              "Validation: 0it [00:00, ?it/s]"
            ]
          },
          "metadata": {},
          "output_type": "display_data"
        },
        {
          "name": "stderr",
          "output_type": "stream",
          "text": [
            "Metric val_rmse improved by 0.000 >= min_delta = 0.0. New best score: 0.286\n"
          ]
        },
        {
          "data": {
            "application/vnd.jupyter.widget-view+json": {
              "model_id": "",
              "version_major": 2,
              "version_minor": 0
            },
            "text/plain": [
              "Validation: 0it [00:00, ?it/s]"
            ]
          },
          "metadata": {},
          "output_type": "display_data"
        },
        {
          "data": {
            "application/vnd.jupyter.widget-view+json": {
              "model_id": "",
              "version_major": 2,
              "version_minor": 0
            },
            "text/plain": [
              "Validation: 0it [00:00, ?it/s]"
            ]
          },
          "metadata": {},
          "output_type": "display_data"
        },
        {
          "name": "stderr",
          "output_type": "stream",
          "text": [
            "Metric val_rmse improved by 0.004 >= min_delta = 0.0. New best score: 0.282\n"
          ]
        },
        {
          "data": {
            "application/vnd.jupyter.widget-view+json": {
              "model_id": "",
              "version_major": 2,
              "version_minor": 0
            },
            "text/plain": [
              "Validation: 0it [00:00, ?it/s]"
            ]
          },
          "metadata": {},
          "output_type": "display_data"
        },
        {
          "name": "stderr",
          "output_type": "stream",
          "text": [
            "Metric val_rmse improved by 0.001 >= min_delta = 0.0. New best score: 0.281\n"
          ]
        },
        {
          "data": {
            "application/vnd.jupyter.widget-view+json": {
              "model_id": "",
              "version_major": 2,
              "version_minor": 0
            },
            "text/plain": [
              "Validation: 0it [00:00, ?it/s]"
            ]
          },
          "metadata": {},
          "output_type": "display_data"
        },
        {
          "data": {
            "application/vnd.jupyter.widget-view+json": {
              "model_id": "",
              "version_major": 2,
              "version_minor": 0
            },
            "text/plain": [
              "Validation: 0it [00:00, ?it/s]"
            ]
          },
          "metadata": {},
          "output_type": "display_data"
        },
        {
          "data": {
            "application/vnd.jupyter.widget-view+json": {
              "model_id": "",
              "version_major": 2,
              "version_minor": 0
            },
            "text/plain": [
              "Validation: 0it [00:00, ?it/s]"
            ]
          },
          "metadata": {},
          "output_type": "display_data"
        },
        {
          "data": {
            "application/vnd.jupyter.widget-view+json": {
              "model_id": "",
              "version_major": 2,
              "version_minor": 0
            },
            "text/plain": [
              "Validation: 0it [00:00, ?it/s]"
            ]
          },
          "metadata": {},
          "output_type": "display_data"
        },
        {
          "name": "stderr",
          "output_type": "stream",
          "text": [
            "Metric val_rmse improved by 0.004 >= min_delta = 0.0. New best score: 0.277\n"
          ]
        },
        {
          "data": {
            "application/vnd.jupyter.widget-view+json": {
              "model_id": "",
              "version_major": 2,
              "version_minor": 0
            },
            "text/plain": [
              "Validation: 0it [00:00, ?it/s]"
            ]
          },
          "metadata": {},
          "output_type": "display_data"
        },
        {
          "name": "stderr",
          "output_type": "stream",
          "text": [
            "Metric val_rmse improved by 0.002 >= min_delta = 0.0. New best score: 0.275\n"
          ]
        },
        {
          "data": {
            "application/vnd.jupyter.widget-view+json": {
              "model_id": "",
              "version_major": 2,
              "version_minor": 0
            },
            "text/plain": [
              "Validation: 0it [00:00, ?it/s]"
            ]
          },
          "metadata": {},
          "output_type": "display_data"
        },
        {
          "data": {
            "application/vnd.jupyter.widget-view+json": {
              "model_id": "",
              "version_major": 2,
              "version_minor": 0
            },
            "text/plain": [
              "Validation: 0it [00:00, ?it/s]"
            ]
          },
          "metadata": {},
          "output_type": "display_data"
        },
        {
          "data": {
            "application/vnd.jupyter.widget-view+json": {
              "model_id": "",
              "version_major": 2,
              "version_minor": 0
            },
            "text/plain": [
              "Validation: 0it [00:00, ?it/s]"
            ]
          },
          "metadata": {},
          "output_type": "display_data"
        },
        {
          "data": {
            "application/vnd.jupyter.widget-view+json": {
              "model_id": "",
              "version_major": 2,
              "version_minor": 0
            },
            "text/plain": [
              "Validation: 0it [00:00, ?it/s]"
            ]
          },
          "metadata": {},
          "output_type": "display_data"
        },
        {
          "data": {
            "application/vnd.jupyter.widget-view+json": {
              "model_id": "",
              "version_major": 2,
              "version_minor": 0
            },
            "text/plain": [
              "Validation: 0it [00:00, ?it/s]"
            ]
          },
          "metadata": {},
          "output_type": "display_data"
        },
        {
          "data": {
            "application/vnd.jupyter.widget-view+json": {
              "model_id": "",
              "version_major": 2,
              "version_minor": 0
            },
            "text/plain": [
              "Validation: 0it [00:00, ?it/s]"
            ]
          },
          "metadata": {},
          "output_type": "display_data"
        },
        {
          "data": {
            "application/vnd.jupyter.widget-view+json": {
              "model_id": "",
              "version_major": 2,
              "version_minor": 0
            },
            "text/plain": [
              "Validation: 0it [00:00, ?it/s]"
            ]
          },
          "metadata": {},
          "output_type": "display_data"
        },
        {
          "data": {
            "application/vnd.jupyter.widget-view+json": {
              "model_id": "",
              "version_major": 2,
              "version_minor": 0
            },
            "text/plain": [
              "Validation: 0it [00:00, ?it/s]"
            ]
          },
          "metadata": {},
          "output_type": "display_data"
        },
        {
          "data": {
            "application/vnd.jupyter.widget-view+json": {
              "model_id": "",
              "version_major": 2,
              "version_minor": 0
            },
            "text/plain": [
              "Validation: 0it [00:00, ?it/s]"
            ]
          },
          "metadata": {},
          "output_type": "display_data"
        },
        {
          "data": {
            "application/vnd.jupyter.widget-view+json": {
              "model_id": "",
              "version_major": 2,
              "version_minor": 0
            },
            "text/plain": [
              "Validation: 0it [00:00, ?it/s]"
            ]
          },
          "metadata": {},
          "output_type": "display_data"
        },
        {
          "name": "stderr",
          "output_type": "stream",
          "text": [
            "Monitored metric val_rmse did not improve in the last 10 records. Best score: 0.275. Signaling Trainer to stop.\n",
            "Global seed set to 42\n"
          ]
        },
        {
          "name": "stdout",
          "output_type": "stream",
          "text": [
            "\n",
            "#####Starting fold 4#####\n",
            "\n"
          ]
        },
        {
          "name": "stderr",
          "output_type": "stream",
          "text": [
            "GPU available: True (cuda), used: True\n",
            "TPU available: False, using: 0 TPU cores\n",
            "IPU available: False, using: 0 IPUs\n",
            "HPU available: False, using: 0 HPUs\n",
            "/home/ai4ex2022/anaconda3/envs/ai4ex/lib/python3.9/site-packages/pytorch_lightning/callbacks/model_checkpoint.py:612: UserWarning: Checkpoint directory logs/resnet10t/resnet10t_1003-1304/checkpoints exists and is not empty.\n",
            "  rank_zero_warn(f\"Checkpoint directory {dirpath} exists and is not empty.\")\n",
            "LOCAL_RANK: 0 - CUDA_VISIBLE_DEVICES: [0]\n",
            "Loading `train_dataloader` to estimate number of stepping batches.\n",
            "/home/ai4ex2022/anaconda3/envs/ai4ex/lib/python3.9/site-packages/pytorch_lightning/loops/fit_loop.py:280: PossibleUserWarning: The number of training batches (43) is smaller than the logging interval Trainer(log_every_n_steps=50). Set a lower value for log_every_n_steps if you want to see logs for the training epoch.\n",
            "  rank_zero_warn(\n",
            "\n",
            "  | Name      | Type             | Params\n",
            "-----------------------------------------------\n",
            "0 | net       | ResNet           | 5.0 M \n",
            "1 | softplus  | Softplus         | 0     \n",
            "2 | criterion | MSELoss          | 0     \n",
            "3 | _metric   | MeanSquaredError | 0     \n",
            "-----------------------------------------------\n",
            "5.0 M     Trainable params\n",
            "0         Non-trainable params\n",
            "5.0 M     Total params\n",
            "19.825    Total estimated model params size (MB)\n"
          ]
        },
        {
          "data": {
            "application/vnd.jupyter.widget-view+json": {
              "model_id": "6fdee21bf9ef4f57bca3efb5644a1c58",
              "version_major": 2,
              "version_minor": 0
            },
            "text/plain": [
              "Training: 0it [00:00, ?it/s]"
            ]
          },
          "metadata": {},
          "output_type": "display_data"
        },
        {
          "data": {
            "application/vnd.jupyter.widget-view+json": {
              "model_id": "",
              "version_major": 2,
              "version_minor": 0
            },
            "text/plain": [
              "Validation: 0it [00:00, ?it/s]"
            ]
          },
          "metadata": {},
          "output_type": "display_data"
        },
        {
          "name": "stderr",
          "output_type": "stream",
          "text": [
            "Metric val_rmse improved. New best score: 0.560\n"
          ]
        },
        {
          "data": {
            "application/vnd.jupyter.widget-view+json": {
              "model_id": "",
              "version_major": 2,
              "version_minor": 0
            },
            "text/plain": [
              "Validation: 0it [00:00, ?it/s]"
            ]
          },
          "metadata": {},
          "output_type": "display_data"
        },
        {
          "name": "stderr",
          "output_type": "stream",
          "text": [
            "Metric val_rmse improved by 0.076 >= min_delta = 0.0. New best score: 0.484\n"
          ]
        },
        {
          "data": {
            "application/vnd.jupyter.widget-view+json": {
              "model_id": "",
              "version_major": 2,
              "version_minor": 0
            },
            "text/plain": [
              "Validation: 0it [00:00, ?it/s]"
            ]
          },
          "metadata": {},
          "output_type": "display_data"
        },
        {
          "name": "stderr",
          "output_type": "stream",
          "text": [
            "Metric val_rmse improved by 0.112 >= min_delta = 0.0. New best score: 0.372\n"
          ]
        },
        {
          "data": {
            "application/vnd.jupyter.widget-view+json": {
              "model_id": "",
              "version_major": 2,
              "version_minor": 0
            },
            "text/plain": [
              "Validation: 0it [00:00, ?it/s]"
            ]
          },
          "metadata": {},
          "output_type": "display_data"
        },
        {
          "name": "stderr",
          "output_type": "stream",
          "text": [
            "Metric val_rmse improved by 0.068 >= min_delta = 0.0. New best score: 0.304\n"
          ]
        },
        {
          "data": {
            "application/vnd.jupyter.widget-view+json": {
              "model_id": "",
              "version_major": 2,
              "version_minor": 0
            },
            "text/plain": [
              "Validation: 0it [00:00, ?it/s]"
            ]
          },
          "metadata": {},
          "output_type": "display_data"
        },
        {
          "name": "stderr",
          "output_type": "stream",
          "text": [
            "Metric val_rmse improved by 0.021 >= min_delta = 0.0. New best score: 0.283\n"
          ]
        },
        {
          "data": {
            "application/vnd.jupyter.widget-view+json": {
              "model_id": "",
              "version_major": 2,
              "version_minor": 0
            },
            "text/plain": [
              "Validation: 0it [00:00, ?it/s]"
            ]
          },
          "metadata": {},
          "output_type": "display_data"
        },
        {
          "name": "stderr",
          "output_type": "stream",
          "text": [
            "Metric val_rmse improved by 0.017 >= min_delta = 0.0. New best score: 0.266\n"
          ]
        },
        {
          "data": {
            "application/vnd.jupyter.widget-view+json": {
              "model_id": "",
              "version_major": 2,
              "version_minor": 0
            },
            "text/plain": [
              "Validation: 0it [00:00, ?it/s]"
            ]
          },
          "metadata": {},
          "output_type": "display_data"
        },
        {
          "name": "stderr",
          "output_type": "stream",
          "text": [
            "Metric val_rmse improved by 0.004 >= min_delta = 0.0. New best score: 0.262\n"
          ]
        },
        {
          "data": {
            "application/vnd.jupyter.widget-view+json": {
              "model_id": "",
              "version_major": 2,
              "version_minor": 0
            },
            "text/plain": [
              "Validation: 0it [00:00, ?it/s]"
            ]
          },
          "metadata": {},
          "output_type": "display_data"
        },
        {
          "name": "stderr",
          "output_type": "stream",
          "text": [
            "Metric val_rmse improved by 0.002 >= min_delta = 0.0. New best score: 0.260\n"
          ]
        },
        {
          "data": {
            "application/vnd.jupyter.widget-view+json": {
              "model_id": "",
              "version_major": 2,
              "version_minor": 0
            },
            "text/plain": [
              "Validation: 0it [00:00, ?it/s]"
            ]
          },
          "metadata": {},
          "output_type": "display_data"
        },
        {
          "data": {
            "application/vnd.jupyter.widget-view+json": {
              "model_id": "",
              "version_major": 2,
              "version_minor": 0
            },
            "text/plain": [
              "Validation: 0it [00:00, ?it/s]"
            ]
          },
          "metadata": {},
          "output_type": "display_data"
        },
        {
          "data": {
            "application/vnd.jupyter.widget-view+json": {
              "model_id": "",
              "version_major": 2,
              "version_minor": 0
            },
            "text/plain": [
              "Validation: 0it [00:00, ?it/s]"
            ]
          },
          "metadata": {},
          "output_type": "display_data"
        },
        {
          "name": "stderr",
          "output_type": "stream",
          "text": [
            "Metric val_rmse improved by 0.006 >= min_delta = 0.0. New best score: 0.254\n"
          ]
        },
        {
          "data": {
            "application/vnd.jupyter.widget-view+json": {
              "model_id": "",
              "version_major": 2,
              "version_minor": 0
            },
            "text/plain": [
              "Validation: 0it [00:00, ?it/s]"
            ]
          },
          "metadata": {},
          "output_type": "display_data"
        },
        {
          "data": {
            "application/vnd.jupyter.widget-view+json": {
              "model_id": "",
              "version_major": 2,
              "version_minor": 0
            },
            "text/plain": [
              "Validation: 0it [00:00, ?it/s]"
            ]
          },
          "metadata": {},
          "output_type": "display_data"
        },
        {
          "name": "stderr",
          "output_type": "stream",
          "text": [
            "Metric val_rmse improved by 0.001 >= min_delta = 0.0. New best score: 0.253\n"
          ]
        },
        {
          "data": {
            "application/vnd.jupyter.widget-view+json": {
              "model_id": "",
              "version_major": 2,
              "version_minor": 0
            },
            "text/plain": [
              "Validation: 0it [00:00, ?it/s]"
            ]
          },
          "metadata": {},
          "output_type": "display_data"
        },
        {
          "name": "stderr",
          "output_type": "stream",
          "text": [
            "Metric val_rmse improved by 0.001 >= min_delta = 0.0. New best score: 0.252\n"
          ]
        },
        {
          "data": {
            "application/vnd.jupyter.widget-view+json": {
              "model_id": "",
              "version_major": 2,
              "version_minor": 0
            },
            "text/plain": [
              "Validation: 0it [00:00, ?it/s]"
            ]
          },
          "metadata": {},
          "output_type": "display_data"
        },
        {
          "data": {
            "application/vnd.jupyter.widget-view+json": {
              "model_id": "",
              "version_major": 2,
              "version_minor": 0
            },
            "text/plain": [
              "Validation: 0it [00:00, ?it/s]"
            ]
          },
          "metadata": {},
          "output_type": "display_data"
        },
        {
          "data": {
            "application/vnd.jupyter.widget-view+json": {
              "model_id": "",
              "version_major": 2,
              "version_minor": 0
            },
            "text/plain": [
              "Validation: 0it [00:00, ?it/s]"
            ]
          },
          "metadata": {},
          "output_type": "display_data"
        },
        {
          "data": {
            "application/vnd.jupyter.widget-view+json": {
              "model_id": "",
              "version_major": 2,
              "version_minor": 0
            },
            "text/plain": [
              "Validation: 0it [00:00, ?it/s]"
            ]
          },
          "metadata": {},
          "output_type": "display_data"
        },
        {
          "name": "stderr",
          "output_type": "stream",
          "text": [
            "Metric val_rmse improved by 0.005 >= min_delta = 0.0. New best score: 0.247\n"
          ]
        },
        {
          "data": {
            "application/vnd.jupyter.widget-view+json": {
              "model_id": "",
              "version_major": 2,
              "version_minor": 0
            },
            "text/plain": [
              "Validation: 0it [00:00, ?it/s]"
            ]
          },
          "metadata": {},
          "output_type": "display_data"
        },
        {
          "data": {
            "application/vnd.jupyter.widget-view+json": {
              "model_id": "",
              "version_major": 2,
              "version_minor": 0
            },
            "text/plain": [
              "Validation: 0it [00:00, ?it/s]"
            ]
          },
          "metadata": {},
          "output_type": "display_data"
        },
        {
          "data": {
            "application/vnd.jupyter.widget-view+json": {
              "model_id": "",
              "version_major": 2,
              "version_minor": 0
            },
            "text/plain": [
              "Validation: 0it [00:00, ?it/s]"
            ]
          },
          "metadata": {},
          "output_type": "display_data"
        },
        {
          "data": {
            "application/vnd.jupyter.widget-view+json": {
              "model_id": "",
              "version_major": 2,
              "version_minor": 0
            },
            "text/plain": [
              "Validation: 0it [00:00, ?it/s]"
            ]
          },
          "metadata": {},
          "output_type": "display_data"
        },
        {
          "data": {
            "application/vnd.jupyter.widget-view+json": {
              "model_id": "",
              "version_major": 2,
              "version_minor": 0
            },
            "text/plain": [
              "Validation: 0it [00:00, ?it/s]"
            ]
          },
          "metadata": {},
          "output_type": "display_data"
        },
        {
          "data": {
            "application/vnd.jupyter.widget-view+json": {
              "model_id": "",
              "version_major": 2,
              "version_minor": 0
            },
            "text/plain": [
              "Validation: 0it [00:00, ?it/s]"
            ]
          },
          "metadata": {},
          "output_type": "display_data"
        },
        {
          "data": {
            "application/vnd.jupyter.widget-view+json": {
              "model_id": "",
              "version_major": 2,
              "version_minor": 0
            },
            "text/plain": [
              "Validation: 0it [00:00, ?it/s]"
            ]
          },
          "metadata": {},
          "output_type": "display_data"
        },
        {
          "data": {
            "application/vnd.jupyter.widget-view+json": {
              "model_id": "",
              "version_major": 2,
              "version_minor": 0
            },
            "text/plain": [
              "Validation: 0it [00:00, ?it/s]"
            ]
          },
          "metadata": {},
          "output_type": "display_data"
        },
        {
          "data": {
            "application/vnd.jupyter.widget-view+json": {
              "model_id": "",
              "version_major": 2,
              "version_minor": 0
            },
            "text/plain": [
              "Validation: 0it [00:00, ?it/s]"
            ]
          },
          "metadata": {},
          "output_type": "display_data"
        },
        {
          "data": {
            "application/vnd.jupyter.widget-view+json": {
              "model_id": "",
              "version_major": 2,
              "version_minor": 0
            },
            "text/plain": [
              "Validation: 0it [00:00, ?it/s]"
            ]
          },
          "metadata": {},
          "output_type": "display_data"
        },
        {
          "name": "stderr",
          "output_type": "stream",
          "text": [
            "Monitored metric val_rmse did not improve in the last 10 records. Best score: 0.247. Signaling Trainer to stop.\n"
          ]
        }
      ],
      "source": [
        "date_time = datetime.datetime.now().strftime(\"%m%d-%H%M\")\n",
        "\n",
        "name = args.model\n",
        "version = name + '_' + date_time\n",
        "\n",
        "# SET LOGGER\n",
        "tb_logger = pl.loggers.TensorBoardLogger(\n",
        "    save_dir=args.log_dir,\n",
        "    name=name,\n",
        "    version=version,\n",
        ")\n",
        "\n",
        "print('\\n')\n",
        "print(args)\n",
        "print(version)\n",
        "print('\\n')\n",
        "\n",
        "checkpoint_paths = []\n",
        "fold_scores = []\n",
        "\n",
        "for fold in range(5):\n",
        "    print(f\"\\n#####Starting fold {fold}#####\\n\")\n",
        "\n",
        "    # make reproducible\n",
        "    pl.seed_everything(args.seed, workers=True)\n",
        "\n",
        "    # call the model here\n",
        "    model = HsiModel(args)\n",
        "\n",
        "    # dataloaders\n",
        "    dst_train=HsiDataset(\n",
        "        df=train[train['fold']!=fold].reset_index(drop=True),\n",
        "        transforms=get_transforms(train=True, image_size=args.image_size, base_size=args.base_size),\n",
        "        repeats=args.repeats,\n",
        "    )\n",
        "    dst_val= HsiDataset(\n",
        "        df=train[train['fold']==fold].reset_index(drop=True),\n",
        "        transforms=get_transforms(train=False, image_size=args.image_size, base_size=args.base_size),\n",
        "        repeats=1,\n",
        "    )\n",
        "\n",
        "    train_loader = DataLoader(\n",
        "        dst_train, batch_size=args.batch_size, num_workers=args.num_workers, shuffle=True, drop_last=True)\n",
        "    val_loader = DataLoader(\n",
        "        dst_val, batch_size=args.batch_size, num_workers=args.num_workers, shuffle=False)\n",
        "\n",
        "    # Initialize simple Callbacks\n",
        "    callbacks = get_callbacks(args, fold=fold)\n",
        "\n",
        "    # Initialize a trainer\n",
        "    trainer = pl.Trainer(\n",
        "        callbacks=callbacks,\n",
        "        accelerator='gpu',\n",
        "        devices=[int(t) for t in args.gpus.split(',')],\n",
        "        max_epochs=args.epochs,\n",
        "        logger=tb_logger,\n",
        "        num_sanity_val_steps=0,\n",
        "        accumulate_grad_batches=args.accumulate_grad_batches,\n",
        "        precision=args.precision,\n",
        "    )\n",
        "\n",
        "    # Train the model\n",
        "    trainer.fit(model, train_dataloaders=train_loader, val_dataloaders=val_loader)\n",
        "\n",
        "    # include the paths in the list\n",
        "    checkpoint_path = trainer.checkpoint_callback.best_model_path\n",
        "    score = trainer.early_stopping_callback.best_score\n",
        "\n",
        "    checkpoint_paths.append(checkpoint_path)\n",
        "    fold_scores.append(score)\n",
        "\n",
        "    free_memory([model, trainer])"
      ]
    },
    {
      "cell_type": "code",
      "execution_count": null,
      "id": "522c8139",
      "metadata": {
        "id": "522c8139",
        "outputId": "fe6dda20-3145-44f6-ed22-063b50cf61a6"
      },
      "outputs": [
        {
          "data": {
            "text/plain": [
              "[tensor(0.2419, device='cuda:0'),\n",
              " tensor(0.2663, device='cuda:0'),\n",
              " tensor(0.2545, device='cuda:0'),\n",
              " tensor(0.2747, device='cuda:0'),\n",
              " tensor(0.2474, device='cuda:0')]"
            ]
          },
          "execution_count": 37,
          "metadata": {},
          "output_type": "execute_result"
        }
      ],
      "source": [
        "fold_scores"
      ]
    },
    {
      "cell_type": "markdown",
      "id": "781c228c",
      "metadata": {
        "id": "781c228c"
      },
      "source": [
        "# **SUBMISSION:**"
      ]
    },
    {
      "cell_type": "code",
      "execution_count": null,
      "id": "5271b792",
      "metadata": {
        "id": "5271b792"
      },
      "outputs": [],
      "source": [
        "os.makedirs('submissions', exist_ok=True)"
      ]
    },
    {
      "cell_type": "code",
      "execution_count": null,
      "id": "c169dfac",
      "metadata": {
        "id": "c169dfac"
      },
      "outputs": [],
      "source": [
        "class PredictionModel(pl.LightningModule):\n",
        "    def __init__(self, ckpt_paths):\n",
        "        super().__init__()\n",
        "        if isinstance(ckpt_paths, str):\n",
        "            ckpt_paths = [ckpt_paths]\n",
        "\n",
        "        self.models = nn.ModuleList([\n",
        "            HsiModel.load_from_checkpoint(ckpt_path, map_location='cpu') for ckpt_path in ckpt_paths\n",
        "        ])\n",
        "\n",
        "    def forward(self, image):\n",
        "        out = torch.stack([model(image) for model in self.models], dim=0).mean(dim=0)\n",
        "        return out\n",
        "\n",
        "    def predict_step(self, batch, batch_idx=0):\n",
        "        image_id = batch['image_id']\n",
        "        image = batch['image']\n",
        "        pred = self(image)\n",
        "        return {'id': image_id.cpu().numpy(), 'pred': pred.cpu().numpy()}"
      ]
    },
    {
      "cell_type": "code",
      "execution_count": null,
      "id": "d9032aea",
      "metadata": {
        "id": "d9032aea",
        "outputId": "da601366-8530-4a05-f44f-079de8da12af"
      },
      "outputs": [
        {
          "data": {
            "text/plain": [
              "['logs/resnet10t/resnet10t_1003-1304/checkpoints/fold0-epoch=23-val_loss=0.0609-val_rmse=0.2419.ckpt',\n",
              " 'logs/resnet10t/resnet10t_1003-1304/checkpoints/fold1-epoch=30-val_loss=0.0819-val_rmse=0.2663.ckpt',\n",
              " 'logs/resnet10t/resnet10t_1003-1304/checkpoints/fold2-epoch=27-val_loss=0.0691-val_rmse=0.2545.ckpt',\n",
              " 'logs/resnet10t/resnet10t_1003-1304/checkpoints/fold3-epoch=22-val_loss=0.0826-val_rmse=0.2747.ckpt',\n",
              " 'logs/resnet10t/resnet10t_1003-1304/checkpoints/fold4-epoch=17-val_loss=0.0662-val_rmse=0.2474.ckpt']"
            ]
          },
          "execution_count": 41,
          "metadata": {},
          "output_type": "execute_result"
        }
      ],
      "source": [
        "checkpoint_paths"
      ]
    },
    {
      "cell_type": "code",
      "execution_count": null,
      "id": "192565a5",
      "metadata": {
        "id": "192565a5"
      },
      "outputs": [],
      "source": [
        "dst_test = HsiDataset(test, transforms=get_transforms(train=False, image_size=args.image_size, base_size=args.base_size))\n",
        "test_loader = DataLoader(dst_test, batch_size=args.batch_size, shuffle=False, num_workers=args.num_workers)"
      ]
    },
    {
      "cell_type": "code",
      "source": [
        "checkpoint_paths = [\n",
        "    'logs/resnet10t/resnet10t_1003-1304/checkpoints/fold0-epoch=23-val_loss=0.0609-val_rmse=0.2419.ckpt',\n",
        "    'logs/resnet10t/resnet10t_1003-1304/checkpoints/fold1-epoch=30-val_loss=0.0819-val_rmse=0.2663.ckpt',\n",
        "    'logs/resnet10t/resnet10t_1003-1304/checkpoints/fold2-epoch=27-val_loss=0.0691-val_rmse=0.2545.ckpt',\n",
        "    'logs/resnet10t/resnet10t_1003-1304/checkpoints/fold3-epoch=22-val_loss=0.0826-val_rmse=0.2747.ckpt',\n",
        "    'logs/resnet10t/resnet10t_1003-1304/checkpoints/fold4-epoch=17-val_loss=0.0662-val_rmse=0.2474.ckpt'\n",
        "]"
      ],
      "metadata": {
        "id": "bHGZ8wCe7rc2"
      },
      "id": "bHGZ8wCe7rc2",
      "execution_count": null,
      "outputs": []
    },
    {
      "cell_type": "code",
      "execution_count": null,
      "id": "d2844092",
      "metadata": {
        "id": "d2844092"
      },
      "outputs": [],
      "source": [
        "model = PredictionModel(checkpoint_paths)"
      ]
    },
    {
      "cell_type": "code",
      "execution_count": null,
      "id": "5ac31179",
      "metadata": {
        "colab": {
          "referenced_widgets": [
            "964921d51640419390a59252d9af46e3"
          ]
        },
        "id": "5ac31179",
        "outputId": "ab77101a-fe2f-4d71-8afb-2d0431b18781"
      },
      "outputs": [
        {
          "name": "stderr",
          "output_type": "stream",
          "text": [
            "GPU available: True (cuda), used: True\n",
            "TPU available: False, using: 0 TPU cores\n",
            "IPU available: False, using: 0 IPUs\n",
            "HPU available: False, using: 0 HPUs\n",
            "LOCAL_RANK: 0 - CUDA_VISIBLE_DEVICES: [0]\n"
          ]
        },
        {
          "data": {
            "application/vnd.jupyter.widget-view+json": {
              "model_id": "964921d51640419390a59252d9af46e3",
              "version_major": 2,
              "version_minor": 0
            },
            "text/plain": [
              "Predicting: 0it [00:00, ?it/s]"
            ]
          },
          "metadata": {},
          "output_type": "display_data"
        }
      ],
      "source": [
        "trainer = pl.Trainer(\n",
        "    accelerator='gpu',\n",
        "    devices=[int(t) for t in args.gpus.split(',')],\n",
        "    logger=None,\n",
        "    precision=args.precision,\n",
        ")\n",
        "\n",
        "# Train the model\n",
        "preds = trainer.predict(model, dataloaders=test_loader)"
      ]
    },
    {
      "cell_type": "code",
      "execution_count": null,
      "id": "0bdec7c5",
      "metadata": {
        "id": "0bdec7c5",
        "outputId": "7e306089-eb3e-49be-e196-45876cc4a3c3"
      },
      "outputs": [
        {
          "data": {
            "text/plain": [
              "['P', 'K', 'Mg', 'pH']"
            ]
          },
          "execution_count": 45,
          "metadata": {},
          "output_type": "execute_result"
        }
      ],
      "source": [
        "label_columns"
      ]
    },
    {
      "cell_type": "code",
      "execution_count": null,
      "id": "c167364c",
      "metadata": {
        "id": "c167364c",
        "outputId": "eeaf496c-9176-43c9-ac15-17aeaaf4f6ff"
      },
      "outputs": [
        {
          "data": {
            "text/html": [
              "<div>\n",
              "<style scoped>\n",
              "    .dataframe tbody tr th:only-of-type {\n",
              "        vertical-align: middle;\n",
              "    }\n",
              "\n",
              "    .dataframe tbody tr th {\n",
              "        vertical-align: top;\n",
              "    }\n",
              "\n",
              "    .dataframe thead th {\n",
              "        text-align: right;\n",
              "    }\n",
              "</style>\n",
              "<table border=\"1\" class=\"dataframe\">\n",
              "  <thead>\n",
              "    <tr style=\"text-align: right;\">\n",
              "      <th></th>\n",
              "      <th>sample_index</th>\n",
              "      <th>Target</th>\n",
              "    </tr>\n",
              "  </thead>\n",
              "  <tbody>\n",
              "    <tr>\n",
              "      <th>0</th>\n",
              "      <td>0_P</td>\n",
              "      <td>0.99551</td>\n",
              "    </tr>\n",
              "    <tr>\n",
              "      <th>0</th>\n",
              "      <td>0_K</td>\n",
              "      <td>0.968869</td>\n",
              "    </tr>\n",
              "    <tr>\n",
              "      <th>0</th>\n",
              "      <td>0_Mg</td>\n",
              "      <td>1.045436</td>\n",
              "    </tr>\n",
              "    <tr>\n",
              "      <th>0</th>\n",
              "      <td>0_pH</td>\n",
              "      <td>1.030559</td>\n",
              "    </tr>\n",
              "    <tr>\n",
              "      <th>1</th>\n",
              "      <td>1_P</td>\n",
              "      <td>0.960749</td>\n",
              "    </tr>\n",
              "  </tbody>\n",
              "</table>\n",
              "</div>"
            ],
            "text/plain": [
              "  sample_index    Target\n",
              "0          0_P   0.99551\n",
              "0          0_K  0.968869\n",
              "0         0_Mg  1.045436\n",
              "0         0_pH  1.030559\n",
              "1          1_P  0.960749"
            ]
          },
          "execution_count": 46,
          "metadata": {},
          "output_type": "execute_result"
        }
      ],
      "source": [
        "preds1 = pd.DataFrame(preds).explode(column=['id', 'pred'], ignore_index=True)\n",
        "preds1['tags'] = [label_columns]*len(preds1)\n",
        "preds1 = preds1.explode(column=['tags', 'pred']).rename(columns={'pred': 'Target'})\n",
        "preds1['sample_index'] = preds1['id'].astype('str') + '_' + preds1['tags']\n",
        "\n",
        "preds1 = preds1[['sample_index', 'Target']]\n",
        "preds1.head()"
      ]
    },
    {
      "cell_type": "code",
      "execution_count": null,
      "id": "6f5f2398",
      "metadata": {
        "id": "6f5f2398"
      },
      "outputs": [],
      "source": [
        "preds1.to_csv(f'submissions/{version}.csv', index=False)"
      ]
    },
    {
      "cell_type": "code",
      "execution_count": null,
      "id": "ebe7099b",
      "metadata": {
        "id": "ebe7099b",
        "outputId": "cf869236-369b-453a-9bcf-a646aca6d9a3"
      },
      "outputs": [
        {
          "data": {
            "text/plain": [
              "'resnet10t_1003-1304'"
            ]
          },
          "execution_count": 48,
          "metadata": {},
          "output_type": "execute_result"
        }
      ],
      "source": [
        "version"
      ]
    },
    {
      "cell_type": "code",
      "execution_count": null,
      "id": "1cb8047e",
      "metadata": {
        "id": "1cb8047e"
      },
      "outputs": [],
      "source": []
    }
  ],
  "metadata": {
    "kernelspec": {
      "display_name": "ai4ex",
      "language": "python",
      "name": "ai4ex"
    },
    "language_info": {
      "codemirror_mode": {
        "name": "ipython",
        "version": 3
      },
      "file_extension": ".py",
      "mimetype": "text/x-python",
      "name": "python",
      "nbconvert_exporter": "python",
      "pygments_lexer": "ipython3",
      "version": "3.9.16"
    },
    "colab": {
      "provenance": []
    }
  },
  "nbformat": 4,
  "nbformat_minor": 5
}